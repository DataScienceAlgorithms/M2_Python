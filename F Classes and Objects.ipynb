{
 "cells": [
  {
   "cell_type": "markdown",
   "metadata": {},
   "source": [
    "# [CPSC 322]() Data Science Algorithms\n",
    "[Gonzaga University](https://www.gonzaga.edu/) |\n",
    "[Sophina Luitel](https://www.gonzaga.edu/school-of-engineering-applied-science/faculty/detail/sophina-luitel-phd-0dba6a9d)\n",
    "\n",
    "---\n",
    "\n",
    "# Classes and Objects\n",
    "Learner Objectives\n",
    "What are our learning objectives for this lesson?\n",
    "* Define classes\n",
    "* Declare objects to instantiate classes\n",
    "* Implement basic object functionality\n",
    "* Implement class methods\n",
    "\n",
    "Content used in this lesson is based upon information in the following sources:\n",
    "* Dr. Gina Sprint's notes from Data Science Algorithms, Fall 2024"
   ]
  },
  {
   "cell_type": "markdown",
   "metadata": {},
   "source": [
    "   \n",
    "## Today\n",
    "* Announcements\n",
    "    * LA3 is availble. Please read the suggested materials and complete LA3 quiz before next class."
   ]
  },
  {
   "cell_type": "markdown",
   "metadata": {},
   "source": [
    "## What is a Class?\n",
    "- A class is like a blueprint for creating objects.\n",
    "  - It defines attributes (data) and methods (behaviors) for something.\n",
    "- We have already worked with built-in classes like `str`, `int`, `float`, `list`, and `dict`.\n",
    "- Sometimes, we need to represent custom data types for the problems we are solving, so we create our own (user-defined) classes.\n",
    "\n",
    "## What is an Object?\n",
    "- An object is an instance of a class.\n",
    "- Each object can have its own values for the attributes.\n",
    "- Objects allow us to use the attributes and methods defined in the class.\n",
    "\n",
    "Programmatically, a class is a type definition, and an object is a variable of that type (also called an instance of the class).\n"
   ]
  },
  {
   "cell_type": "markdown",
   "metadata": {},
   "source": [
    "Imagine we are writing a program to manage students in a school. It would be useful to have a class called `Student` to store information like name, age, gpa, and enrolled (attributes) and actions like `improve_gpa()` or `is_enrolled()` (methods).\n",
    "    "
   ]
  },
  {
   "cell_type": "code",
   "execution_count": 3,
   "metadata": {},
   "outputs": [],
   "source": [
    "class Student:\n",
    "    '''\n",
    "    \n",
    "    '''\n",
    "    "
   ]
  },
  {
   "cell_type": "markdown",
   "metadata": {},
   "source": [
    "We have a definition for a `Student`! This class is not very powerful (yet). Let's see how we can make an instance of this class, called an object:"
   ]
  },
  {
   "cell_type": "code",
   "execution_count": 5,
   "metadata": {},
   "outputs": [
    {
     "name": "stdout",
     "output_type": "stream",
     "text": [
      "<class '__main__.Student'>\n"
     ]
    }
   ],
   "source": [
    "# s1 is a Student object, i.e. it is an instance of the Student class\n",
    "s1 = Student()\n",
    "print(type(s1))"
   ]
  },
  {
   "cell_type": "markdown",
   "metadata": {},
   "source": [
    "## Adding Attributes to a Class\n",
    "\n",
    "Now that we have introduced the concept of classes, let's add **attributes** to store information about each student.  \n",
    "For example, a student might have:\n",
    "\n",
    "- `name` (string)  \n",
    "- `gpa` (float)\n",
    "- `age` (int)\n",
    "- `enrolled` (boolean)\n",
    "\n",
    "**Attributes** are variables that belong to a class. Each object of the class can have its own values for these attributes.  \n",
    "\n",
    "We can declare and access the attributes of an object using the *member selection (dot) operator* `.`:\n"
   ]
  },
  {
   "cell_type": "code",
   "execution_count": 127,
   "metadata": {},
   "outputs": [
    {
     "name": "stdout",
     "output_type": "stream",
     "text": [
      "Alice\n",
      "3.9\n"
     ]
    }
   ],
   "source": [
    "s1 = Student()\n",
    "# dynamically adding an attribute\n",
    "s1.name = \"Alice\"\n",
    "s1.gpa = 3.9\n",
    "s1.age=23\n",
    "s1.enrolled= True\n",
    "print(s1.name)   \n",
    "print(s1.gpa)    \n",
    "\n"
   ]
  },
  {
   "cell_type": "markdown",
   "metadata": {},
   "source": [
    "We have already encountered the **dot notation** when accessing variables and functions. For example:\n",
    "\n",
    "- Accessing a constant in a module: `math.pi`\n",
    "- Calling a library function: `math.sqrt(4.0)`\n",
    "- Using a method of a file object: `in_file.read()`\n",
    "- Using a method of a string object: `my_string.upper()`\n",
    "\n",
    "Similarly, we can use the dot notation to display the values of an object’s attributes just like we would with any other variable.\n"
   ]
  },
  {
   "cell_type": "code",
   "execution_count": 128,
   "metadata": {},
   "outputs": [
    {
     "name": "stdout",
     "output_type": "stream",
     "text": [
      "Alice is enrolled\n"
     ]
    }
   ],
   "source": [
    "if s1.enrolled:\n",
    "    print(f\"{s1.name} is enrolled\")\n",
    "else: # checked in\n",
    "    print(f\"{s1.name} is not enrolled\")"
   ]
  },
  {
   "cell_type": "markdown",
   "metadata": {},
   "source": [
    "Objects are mutuable. We can change the status of enrollment of a `Student` object."
   ]
  },
  {
   "cell_type": "code",
   "execution_count": 149,
   "metadata": {},
   "outputs": [],
   "source": [
    "s1.enrolled=False"
   ]
  },
  {
   "cell_type": "markdown",
   "metadata": {},
   "source": [
    "## Modifying an Attribute: Two Different Ways\n",
    "\n",
    "Sometimes we want to *change attributes* of an object. There are two main approaches:\n",
    "\n",
    "1. Via a Function (outside the class)\n",
    "\n",
    "2. Via a Method (inside the class)\n",
    "    \n",
    "> Using methods is preferred because it keeps data and behavior together.\n",
    "\n"
   ]
  },
  {
   "cell_type": "markdown",
   "metadata": {},
   "source": [
    "**1. Via a Function (outside the class)**\n",
    "\n",
    "* A function can take an object as a parameter and modify its attributes.  \n",
    "* Objects in Python are passed *by reference*, meaning the function works on the same object.  \n",
    "* This is an example of *aliasing*, where the function parameter becomes an alias to the original object.  \n",
    "* Any changes made inside the function affect the original object.\n",
    "        "
   ]
  },
  {
   "cell_type": "code",
   "execution_count": 160,
   "metadata": {},
   "outputs": [
    {
     "name": "stdout",
     "output_type": "stream",
     "text": [
      "Name: John, Age: 23, Enrolled: False, GPA: 3.20\n",
      "John is enrolled: False\n",
      "John is enrolled: True\n"
     ]
    }
   ],
   "source": [
    "#modifying attributes via functions\n",
    "\n",
    "def display_student(student):\n",
    "    '''Display basic student info'''\n",
    "    print(f\"Name: {student.name}, Age: {student.age}, Enrolled: {student.enrolled}, GPA: {student.gpa:.2f}\")\n",
    "\n",
    "def is_enrolled(student):\n",
    "    '''\n",
    "    displays enrollment status\n",
    "    '''\n",
    "    print(f\"{student.name} is enrolled: {student.enrolled}\")\n",
    "                \n",
    "def withdraw(studet):\n",
    "    '''\n",
    "    withdraw a student\n",
    "    '''\n",
    "    self.enrolled =False\n",
    "\n",
    "\n",
    "def set_enrollment(student):\n",
    "    '''\n",
    "    enroll a student\n",
    "    '''\n",
    "    student.enrolled=True\n",
    "\n",
    "# Create a Student object\n",
    "s1 = Student()\n",
    "s1.name = \"John\"\n",
    "s1.age=23\n",
    "s1.gpa = 3.2\n",
    "s1.enrolled=False\n",
    "\n",
    "\n",
    "# Pass the object to functions\n",
    "display_student(s1)   \n",
    "is_enrolled(s1)\n",
    "set_enrollment(s1)\n",
    "is_enrolled(s1)  \n"
   ]
  },
  {
   "cell_type": "markdown",
   "metadata": {},
   "source": [
    "**2.  Via a Method (inside the class)**\n",
    "* We can also put the logic inside the class as a method. This way, the object knows how to update itself.\n",
    "* The first parameter of every method is `self`:  \n",
    "* `self` refers to the current object.  \n",
    "* It allows methods to access and modify the object’s attributes.  \n",
    "* Methods are called using the dot operator: `<object>.<method>()`.  \n",
    "* Python automatically passes the object to `self`; we do not pass it manually.\n"
   ]
  },
  {
   "cell_type": "code",
   "execution_count": 7,
   "metadata": {},
   "outputs": [
    {
     "name": "stdout",
     "output_type": "stream",
     "text": [
      "Name: John, Age: 23, GPA: 3.20, Enrolled: False\n",
      "John is enrolled: False\n",
      "John is enrolled: True\n"
     ]
    }
   ],
   "source": [
    "class Student:\n",
    "    '''\n",
    "    '''\n",
    "    # simply indent the method definition to associate it with the class\n",
    "    # self is a reference to the calling object\n",
    "    def display_info(self):\n",
    "        '''\n",
    "        displays the student's info\n",
    "        '''\n",
    "        print(f\"Name: {self.name}, Age: {self.age}, GPA: {self.gpa:.2f}, Enrolled: {self.enrolled}\")\n",
    "\n",
    "        \n",
    "    def is_enrolled(self):\n",
    "        '''\n",
    "        displays enrollment status\n",
    "        '''\n",
    "        print(f\"{self.name} is enrolled: {self.enrolled}\")\n",
    "                \n",
    "    def withdraw(self):\n",
    "        '''\n",
    "        withdraw a student\n",
    "        '''\n",
    "        self.enrolled =False\n",
    "\n",
    "    def set_enrollment(self):\n",
    "        '''\n",
    "         enroll a student\n",
    "        '''\n",
    "        self.enrolled=True\n",
    "    \n",
    "    \n",
    "\n",
    "# Create a Student object\n",
    "s1 = Student()\n",
    "s1.name = \"John\"\n",
    "s1.age=23\n",
    "s1.gpa = 3.2\n",
    "s1.enrolled=False\n",
    "\n",
    "#call methods using object\n",
    "s1.display_info()   \n",
    "s1.is_enrolled()\n",
    "s1.set_enrollment()\n",
    "s1.is_enrolled()  \n",
    "\n",
    "\n",
    "\n",
    "       "
   ]
  },
  {
   "cell_type": "markdown",
   "metadata": {},
   "source": [
    "## Special Methods"
   ]
  },
  {
   "cell_type": "markdown",
   "metadata": {},
   "source": [
    "### The `__str__()` Method\n",
    "\n",
    "The `__str__()` special method is called automatically whenever Python needs a string representation of an object, such as when using `print(s1)`.\n",
    "\n",
    "We can create a method similar to our existing `display_info()` method, but:\n",
    "\n",
    "- Rename it to `__str__()`\n",
    "- **Return** the string instead of printing it\n",
    "\n",
    "This allows us to simply use `print(s1)` to display the student’s information.\n"
   ]
  },
  {
   "cell_type": "code",
   "execution_count": 9,
   "metadata": {},
   "outputs": [
    {
     "name": "stdout",
     "output_type": "stream",
     "text": [
      "Name: John, Age: 19, Enrolled: True, GPA: 3.20\n"
     ]
    }
   ],
   "source": [
    "class Student:\n",
    "    '''\n",
    "    \n",
    "    '''       \n",
    "    def __str__(self):\n",
    "        '''\n",
    "        \n",
    "        '''\n",
    "        return f\"Name: {self.name}, Age: {self.age}, Enrolled: {self.enrolled}, GPA: {self.gpa:.2f}\"\n",
    "        \n",
    "s1 = Student()\n",
    "s1.name = \"John\"\n",
    "s1.age = 19\n",
    "s1.enrolled=True\n",
    "s1.gpa = 3.2\n",
    "print(s1)\n"
   ]
  },
  {
   "cell_type": "markdown",
   "metadata": {},
   "source": [
    "Note: We can also explicitly call special methods: `s1.__str__()`"
   ]
  },
  {
   "cell_type": "markdown",
   "metadata": {},
   "source": [
    "### The `__init__()` Method\n",
    "\n",
    "- There is a special method called `__init__()` (short for initialize) that Python calls automatically every time a new object is created. \n",
    "- The double underscores indicate that this is a **special method** in Python. \n",
    "- We can define our own `__init__()` method to set attribute values when the object is first created.\n",
    "\n",
    "Here is an example of the `__init__()` method for a `Student` class.\n"
   ]
  },
  {
   "cell_type": "code",
   "execution_count": 161,
   "metadata": {},
   "outputs": [],
   "source": [
    "class Student:\n",
    "    '''\n",
    "    \n",
    "    '''\n",
    "    def __init__(self, student_name, student_age, student_enrolled, student_gpa):\n",
    "        self.name = student_name\n",
    "        self.age = student_age\n",
    "        self.gpa = student_gpa\n",
    "        self.enrolled = student_enrolled\n",
    "       \n",
    "   \n",
    "    def __str__(self):\n",
    "        '''\n",
    "        \n",
    "        '''\n",
    "        return f\"Name: {self.name}, Age: {self.age}, Enrolled:{self.enrolled}, GPA: {self.gpa:.2f}\"\n",
    "        "
   ]
  },
  {
   "cell_type": "markdown",
   "metadata": {},
   "source": [
    "And now we will instantiate a `Student` object:"
   ]
  },
  {
   "cell_type": "code",
   "execution_count": 162,
   "metadata": {},
   "outputs": [],
   "source": [
    "s1 = Student(\"Alice\",23,True,3.5)"
   ]
  },
  {
   "cell_type": "markdown",
   "metadata": {},
   "source": [
    "When we create a new `Student` object, the `__init__()` method we defined is *automatically called*, and the attributes `name`, `age`, `gpa`, and `enrolled` are **initialized** to the values we provide as arguments.\n"
   ]
  },
  {
   "cell_type": "markdown",
   "metadata": {},
   "source": [
    "## Lists of Objects\n",
    "\n",
    "We can create a **list of Student objects**. This list can be declared like any other list and populated with `Student` objects:\n",
    "\n",
    "\n"
   ]
  },
  {
   "cell_type": "code",
   "execution_count": 163,
   "metadata": {},
   "outputs": [
    {
     "name": "stdout",
     "output_type": "stream",
     "text": [
      "Name: Alice, Age: 20, Enrolled:True, GPA: 3.20\n",
      "Name: Bob, Age: 19, Enrolled:False, GPA: 3.40\n",
      "Name: Charlie, Age: 21, Enrolled:False, GPA: 4.00\n",
      "Name: David, Age: 20, Enrolled:True, GPA: 3.10\n",
      "Name: Eva, Age: 22, Enrolled:True, GPA: 2.60\n",
      "Name: Frank, Age: 19, Enrolled:True, GPA: 3.40\n",
      "Name: Grace, Age: 21, Enrolled:False, GPA: 2.50\n"
     ]
    }
   ],
   "source": [
    "\n",
    "# Create an empty list of students\n",
    "student_list = []\n",
    "\n",
    "# Create Student objects and add them to the list\n",
    "s1 = Student(\"Alice\", 20, True, 3.2)\n",
    "student_list.append(s1)\n",
    "\n",
    "s2 = Student(\"Bob\", 19, False, 3.4)\n",
    "student_list.append(s2)\n",
    "\n",
    "s3 = Student(\"Charlie\", 21, False,4.0)\n",
    "student_list.append(s3)\n",
    "\n",
    "s4 = Student(\"David\", 20, True, 3.1)\n",
    "student_list.append(s4)\n",
    "\n",
    "s5 = Student(\"Eva\", 22, True, 2.6)\n",
    "student_list.append(s5)\n",
    "\n",
    "s6 = Student(\"Frank\", 19, True, 3.4)\n",
    "student_list.append(s6)\n",
    "\n",
    "s7 = Student(\"Grace\", 21, False, 2.5)\n",
    "student_list.append(s7)\n",
    "\n",
    "# Iterate through the list and display each student\n",
    "for student in student_list:\n",
    "    print(student)"
   ]
  },
  {
   "cell_type": "markdown",
   "metadata": {},
   "source": [
    "## Practice Problem\n",
    "### Part 1\n",
    "Define a class called `Point`. A `Point` represents a position in 2 dimensional space, defined by an x and a y coordinate (no need to define any methods *yet*). \n",
    "\n",
    "Instantiate a `Point` object representing the origin (0,0):"
   ]
  },
  {
   "cell_type": "code",
   "execution_count": null,
   "metadata": {
    "jupyter": {
     "source_hidden": true
    }
   },
   "outputs": [],
   "source": [
    "class Point:\n",
    "    '''\n",
    "    \n",
    "    '''\n",
    "\n",
    "origin = Point()\n",
    "origin.x = 0\n",
    "origin.y = 0"
   ]
  },
  {
   "cell_type": "markdown",
   "metadata": {},
   "source": [
    "### Part 2\n",
    "Re-write your `Point` definition and instantiation of `Point` to make use of an `__init__()` method:"
   ]
  },
  {
   "cell_type": "code",
   "execution_count": null,
   "metadata": {
    "jupyter": {
     "source_hidden": true
    }
   },
   "outputs": [],
   "source": [
    "class Point:\n",
    "    '''\n",
    "    \n",
    "    '''\n",
    "    def __init__(self, x, y):\n",
    "        '''\n",
    "        \n",
    "        '''\n",
    "        self.x = x\n",
    "        self.y = y\n",
    "    \n",
    "point = Point(1, 4)"
   ]
  },
  {
   "cell_type": "markdown",
   "metadata": {},
   "source": [
    "### Part 3\n",
    "Add a method to `Point` called `display_point()` that displays `Point` information in the form: `(x, y)`. Then call `display_point()` to print a `Point` object."
   ]
  },
  {
   "cell_type": "code",
   "execution_count": 119,
   "metadata": {
    "jupyter": {
     "source_hidden": true
    }
   },
   "outputs": [
    {
     "name": "stdout",
     "output_type": "stream",
     "text": [
      "(1, 4)\n"
     ]
    }
   ],
   "source": [
    "class Point:\n",
    "    '''\n",
    "    \n",
    "    '''\n",
    "    def __init__(self, x, y):\n",
    "        '''\n",
    "        \n",
    "        '''\n",
    "        self.x = x\n",
    "        self.y = y\n",
    "        \n",
    "    def display_point(self):\n",
    "        '''\n",
    "        \n",
    "        '''\n",
    "        print(f\"{self.x,self.y}\")\n",
    "    \n",
    "point = Point(1, 4)\n",
    "point.display_point()"
   ]
  },
  {
   "cell_type": "markdown",
   "metadata": {},
   "source": [
    "### Part 4\n",
    "Modify `display_point()` to implement the special function `__str__()`. Then print a `Point` object."
   ]
  },
  {
   "cell_type": "code",
   "execution_count": 120,
   "metadata": {
    "jupyter": {
     "source_hidden": true
    }
   },
   "outputs": [
    {
     "name": "stdout",
     "output_type": "stream",
     "text": [
      "(1, 4)\n"
     ]
    }
   ],
   "source": [
    "class Point:\n",
    "    '''\n",
    "    \n",
    "    '''\n",
    "    def __init__(self, x, y):\n",
    "        '''\n",
    "        \n",
    "        '''\n",
    "        self.x = x\n",
    "        self.y = y\n",
    "        \n",
    "    def __str__(self):\n",
    "        '''\n",
    "        \n",
    "        '''\n",
    "        return f\"{self.x, self.y}\"\n",
    "    \n",
    "point = Point(1, 4)\n",
    "print(point)"
   ]
  },
  {
   "cell_type": "markdown",
   "metadata": {},
   "source": [
    "### Part 5\n",
    "Add a predicate method to `Point` called `equals()` that accepts another `Point` object and determines if it has the same `x` and `y` values as the calling object (think `self`). Then call `equals()` to determine if 2 `Point` objects store equivalent data."
   ]
  },
  {
   "cell_type": "code",
   "execution_count": 1,
   "metadata": {
    "jupyter": {
     "source_hidden": true
    }
   },
   "outputs": [
    {
     "name": "stdout",
     "output_type": "stream",
     "text": [
      "(0, 0) is equal to (0, 0):True\n"
     ]
    }
   ],
   "source": [
    "class Point:\n",
    "    '''\n",
    "    \n",
    "    '''\n",
    "    def __init__(self, x, y):\n",
    "        '''\n",
    "        \n",
    "        '''\n",
    "        self.x = x\n",
    "        self.y = y\n",
    "        \n",
    "    def display_point(self):\n",
    "        '''\n",
    "        \n",
    "        '''\n",
    "        print(f\"{self.x, self.y}\", end=\"\")\n",
    "        \n",
    "    def equals(self, other_point):\n",
    "        '''\n",
    "        \n",
    "        '''\n",
    "        if self.x == other_point.x and self.y == other_point.y:\n",
    "            return True\n",
    "        return False\n",
    "    \n",
    "origin = Point(0, 0)\n",
    "\n",
    "some_other_point = Point(0, 0)\n",
    "origin.display_point()\n",
    "print(\" is equal to \", end=\"\")\n",
    "some_other_point.display_point()\n",
    "print(f\":{origin.equals(some_other_point)}\")"
   ]
  },
  {
   "cell_type": "markdown",
   "metadata": {},
   "source": [
    "## Object Oriented Programming\n",
    "Object oriented programming (OOP) involves designing programs where most of the computation involves operations on objects. Classes are implemented to represent things in the real world and how they interact. While OOP is a vast subject (and sometimes more of an art than a science), we are going to just scratch the surface on how powerful OOP.\n",
    "\n",
    "### Core Pillars of OOP\n",
    "1. **Abstraction** – Hiding internal details while exposing only necessary functionality. It allows interaction with objects without knowing their inner workings.\n",
    "\n",
    "2. **Encapsulation** – Restricting direct access to an object's data and providing controlled methods for reading or modifying it. This protects the integrity of data.\n",
    "\n",
    "3. **Inheritance** – Creating new classes based on existing ones to reuse and extend behavior, reducing code duplication.\n",
    "\n",
    "4. **Polymorphism** – Allowing objects of different types to respond to the same method call in type-specific ways, providing flexibility through a consistent interface.\n",
    "\n",
    "### Additional Features\n",
    "* Operator Overloading\n",
    "\n",
    "* Composition"
   ]
  },
  {
   "cell_type": "markdown",
   "metadata": {},
   "source": [
    "### Operator Overloading\n",
    "What if we want to compare two `Point` objects for equality using the more natural syntax `point1 == point2` instead of `point1.equals(point2)`? We can achieve this by defining **special methods** that customize how operators work for our objects. This technique is called *operator overloading*. \n",
    "\n",
    "In this example, we will define how the `==` operator behaves when comparing two `Point` objects.\n"
   ]
  },
  {
   "cell_type": "markdown",
   "metadata": {},
   "source": [
    "#### The `__eq__()` Method\n",
    "All we have to do is modify our `equals()` method to implement the special method `__eq__()`:"
   ]
  },
  {
   "cell_type": "code",
   "execution_count": 10,
   "metadata": {},
   "outputs": [
    {
     "name": "stdout",
     "output_type": "stream",
     "text": [
      "False\n",
      "True\n",
      "False\n"
     ]
    }
   ],
   "source": [
    "class Point:\n",
    "    '''\n",
    "    \n",
    "    '''\n",
    "    def __init__(self, x, y):\n",
    "        '''\n",
    "        \n",
    "        '''\n",
    "        self.x = x\n",
    "        self.y = y\n",
    "        \n",
    "    def __str__(self):\n",
    "        '''\n",
    "        \n",
    "        '''\n",
    "        return f\"{self.x, self.y}\"\n",
    "        \n",
    "    def __eq__(self, other_point):\n",
    "        '''\n",
    "        \n",
    "        '''\n",
    "        if self.x == other_point.x and self.y == other_point.y:\n",
    "            return True\n",
    "        return False\n",
    "    \n",
    "point1 = Point(1, 4)\n",
    "point2 = Point(3, -2)\n",
    "point3 = Point(3, -2)\n",
    "\n",
    "# different x,y values\n",
    "print(point1 == point2)\n",
    "# same x,y values\n",
    "print(point2 == point3)\n",
    "# confirm they are different objects \n",
    "print(point2 is point3)"
   ]
  },
  {
   "cell_type": "markdown",
   "metadata": {},
   "source": [
    "#### Other Operators to Overload\n",
    "Try implementing the functionality for other operators:\n",
    "* `+`: `__add__()`\n",
    "* `-`: `__sub__()`\n",
    "* `<`: `__lt__()`\n",
    "* `>`: `__gt__()`\n",
    "* Read about more in the [Python documentation](https://docs.python.org/3/reference/datamodel.html#specialnames\n",
    "\n",
    "### Points to Remember About Operator Overloading\n",
    "\n",
    "\n",
    "1. **Type Checking**: Always check the type of the other operand using `isinstance()` and raise `TypeError` for unsupported types.\n",
    "\n",
    "1. **Polymorphism Connection**: Operator overloading is a form of **polymorphism**, where the same operator behaves differently depending on operand types.\n",
    "\n",
    "1. **Avoid Overuse**: Don’t overload operators unnecessarily; confusing behavior can make your code hard to read and debug.\n",
    "\n",
    "1. **Documentation**: Always document the behavior clearly so users understand how operators work with your class.\n"
   ]
  },
  {
   "cell_type": "markdown",
   "metadata": {},
   "source": [
    "## Polymorphism\n",
    "Polymorphism allows functions or methods to behave differently depending on the type of input or the context.\n",
    "\n",
    "For example, suppose we want to overload the `+` operator for a `Point` class:\n",
    "\n",
    "1. Adding two `Point` objects: `Point + Point` (add x + x and y + y)  \n",
    "2. Adding a numeric value to a `Point`: `Point + 1` (add the value to both x and y)\n",
    "\n",
    "We define the `__add__()` method with a parameter `other`. Inside the method, we can check the type of `other`:\n"
   ]
  },
  {
   "cell_type": "code",
   "execution_count": 19,
   "metadata": {},
   "outputs": [
    {
     "name": "stdout",
     "output_type": "stream",
     "text": [
      "(1, 1)\n",
      "(1, 1) + (3, -2) = (4, -1)\n",
      "(1, 1) + 10 = (11, 11)\n"
     ]
    }
   ],
   "source": [
    "class Point:\n",
    "    '''\n",
    "    '''\n",
    "    def __init__(self, x, y):\n",
    "        '''\n",
    "        Initialize a Point object.\n",
    "        '''\n",
    "        self.x = x\n",
    "        self.y = y\n",
    "\n",
    "    def __str__(self):\n",
    "        '''\n",
    "        '''\n",
    "        return f\"({self.x}, {self.y})\"\n",
    "\n",
    "    def __eq__(self, other):\n",
    "        '''\n",
    "        '''\n",
    "        if isinstance(other, Point):\n",
    "            return self.x == other.x and self.y == other.y\n",
    "        return False\n",
    "\n",
    "    def __add__(self, other):\n",
    "        '''\n",
    "        '''\n",
    "        if isinstance(other, Point):\n",
    "            return Point(self.x + other.x, self.y + other.y)\n",
    "        elif isinstance(other, (int, float)):\n",
    "            return Point(self.x + other, self.y + other)\n",
    "        else:\n",
    "            raise TypeError(f\"Unsupported type for addition: {type(other)}\")\n",
    "\n",
    "# Example usage\n",
    "point1 = Point(1, 1)\n",
    "point2 = Point(3, -2)\n",
    "print(point1)  # (1, 1)\n",
    "\n",
    "print(f\"{point1} + {point2} = {point1 + point2}\")  \n",
    "offset = 10\n",
    "print(f\"{point1} + {offset} = {point1 + offset}\")  # (1,1)+10=(11,11)\n"
   ]
  },
  {
   "cell_type": "markdown",
   "metadata": {},
   "source": [
    "### Composition  \n",
    "Sometimes, an object is made up of other objects. This idea is called **composition**.  \n",
    "\n",
    "For example, think about a `Circle`. A circle has:  \n",
    "- a **center**, which we can represent using a `Point` object, and  \n",
    "- a **radius**, which is just a number.  \n",
    "\n",
    "So when we build a `Circle` class, one of its attributes will be another object (`Point`), and the other will be a numeric value.  \n"
   ]
  },
  {
   "cell_type": "code",
   "execution_count": 23,
   "metadata": {},
   "outputs": [
    {
     "name": "stdout",
     "output_type": "stream",
     "text": [
      "Circle with center: (0, 5) and radius  100.00\n"
     ]
    }
   ],
   "source": [
    "class Circle:\n",
    "    '''\n",
    "    \n",
    "    '''\n",
    "    def __init__(self, x, y, radius):\n",
    "        '''\n",
    "        \n",
    "        '''\n",
    "        self.center = Point(x, y)\n",
    "        self.radius = radius\n",
    "        \n",
    "    def __str__(self):\n",
    "        '''\n",
    "        \n",
    "        '''\n",
    "        return f\"Circle with center: {self.center} and radius {self.radius: .2f}\"\n",
    "    \n",
    "circle = Circle(0, 5, 100.0)\n",
    "print(circle)"
   ]
  },
  {
   "cell_type": "markdown",
   "metadata": {},
   "source": [
    "## Inheritance\n",
    "We can define classes such that they are \"extensions\" of existing classes. For example, consider we have an object called `Animal` that defines certain traits and behaviors that all animals exhibit:\n",
    "1. A species name (string attribute)\n",
    "1. An energy level (integer attribute)\n",
    "1. A play activity (method that subtracts from the energy level)\n",
    "1. A rest activity (method that adds to the energy level)\n",
    "\n",
    "For each specific animal we define (`Lion`, `Tiger`, `Bear`, etc.), we don't want to have to implement these common attributes and methods each time. Instead, we could write classes for each animal, and state these classes *inherit* from `Animal` class, and thus have all the traits and behaviors of `Animal`s. We could then define specific traits and behaviors unique for each animal. For example, a `Lion` might have an attribute called `mane_length` that a `Bear` wouldn't have."
   ]
  },
  {
   "cell_type": "code",
   "execution_count": 26,
   "metadata": {},
   "outputs": [
    {
     "name": "stdout",
     "output_type": "stream",
     "text": [
      "Lion with energy 100\n",
      "GRRRRR\n",
      "Lion with energy 75\n",
      "grr\n"
     ]
    }
   ],
   "source": [
    "class Animal:\n",
    "    '''\n",
    "    \n",
    "    '''\n",
    "    def __init__(self, species, energy):\n",
    "        '''\n",
    "        \n",
    "        '''\n",
    "        self.species = species\n",
    "        self.energy = energy\n",
    "        \n",
    "    def __str__(self):\n",
    "        '''\n",
    "        \n",
    "        '''\n",
    "        return f\"{self.species} with energy {self.energy}\"\n",
    "        \n",
    "    def play(self, expenditure):\n",
    "        '''\n",
    "        \n",
    "        '''\n",
    "        self.energy -= expenditure\n",
    "        \n",
    "    def rest(self, recovery):\n",
    "        '''\n",
    "        \n",
    "        '''\n",
    "        self.energy += recovery\n",
    "        \n",
    "    \n",
    "        \n",
    "class Lion(Animal):\n",
    "    '''\n",
    "    \n",
    "    '''\n",
    "    def __init__(self, species, energy, mane_length, roar):\n",
    "        '''\n",
    "        \n",
    "        '''\n",
    "        super().__init__(species, energy)\n",
    "        self.mane_length = mane_length\n",
    "        self.roar = roar\n",
    "        \n",
    "    def get_roar(self):\n",
    "        '''\n",
    "        \n",
    "        '''\n",
    "        return self.roar\n",
    "    \n",
    "king_lion = Lion(\"Lion\", 100, 24, \"GRRRRR\")\n",
    "cowardly_lion = Lion(\"Lion\", 75, 12, \"grr\")\n",
    "\n",
    "print(king_lion)\n",
    "print(king_lion.get_roar())\n",
    "print(cowardly_lion)\n",
    "print(cowardly_lion.get_roar())"
   ]
  },
  {
   "cell_type": "markdown",
   "metadata": {},
   "source": [
    "`super()` returns a reference to the parent class (`Animal` in this case). Thus, `super().__init__(species, energy)` invokes the initialize method of `Animal`.\n",
    "\n",
    "When we print a `Lion` object, `Animal`'s `__str__()` is implicitly invoked. \n",
    "\n",
    "Note: we could define a specific `__str__()` for `Lion` if we wanted to! Python figures out which method to call based on the more \"specific\" class (i.e. the child class, then the parent class). \n"
   ]
  },
  {
   "cell_type": "markdown",
   "metadata": {},
   "source": [
    "### Composition vs. Inheritance  \n",
    "\n",
    "When designing classes, it’s important to recognize different kinds of relationships between objects.  \n",
    "\n",
    "**Composition (\"has a\")**  \n",
    "- One class contains another class as an attribute.  \n",
    "- Example: A `Circle` **has a** `Point` as its center.  \n",
    "- The `Circle` is not a type of `Point` instead, it uses a `Point` object to represent its position.  \n",
    "\n",
    "**Inheritance (\"is a\")**  \n",
    "- One class is a specialized version of another class.  \n",
    "- Example: A `GraduateStudent` **is a** `Student`.  \n",
    "- The child class inherits attributes and methods from the parent class, but can also extend or override them.  \n",
    "\n",
    "**Why this matters**  \n",
    "- Use composition when you want to build more complex objects out of simpler ones.  \n",
    "- Use inheritance when you want to create a hierarchy where one class is a more specific type of another.  \n",
    "\n",
    " **Note:** In our example, the relationship between `Circle` and `Point` is composition, because a `Circle` **has a** `Point`. If we mistakenly modeled it with inheritance (`Circle` inheriting from `Point`), we’d be saying a circle **is a** point, which doesn’t make sense!  \n"
   ]
  },
  {
   "cell_type": "markdown",
   "metadata": {},
   "source": [
    "### **Method Overriding**\n",
    "  \n",
    "Method overriding occurs when a child class provides a new implementation for a method that is already defined in its parent class. This allows the child class to change or extend the behavior of the inherited method.\n",
    "\n",
    "- The method in the child class must have the same name and same parameters as the parent method.\n",
    "- Python uses the child’s version when the method is called on a child object.\n",
    "- If the child does not override the method, Python uses the parent’s version (inherited behavior).\n",
    "\n",
    "Here is an example where the `Lion` class inherits from Animal.\n",
    "\n",
    "It overrides the `__str__()` method.\n",
    "\n",
    "This means when you print a `Lion` object, Python uses the Lion’s version of `__str__()` instead of the parent Animal version."
   ]
  },
  {
   "cell_type": "code",
   "execution_count": 15,
   "metadata": {},
   "outputs": [
    {
     "name": "stdout",
     "output_type": "stream",
     "text": [
      "Horse with energy 59\n",
      "Lion with energy 100 and length of 24 can roar GRRRRR\n"
     ]
    }
   ],
   "source": [
    "class Animal:\n",
    "    '''\n",
    "    \n",
    "    '''\n",
    "    def __init__(self, species, energy):\n",
    "        '''\n",
    "        \n",
    "        '''\n",
    "        self.species = species\n",
    "        self.energy = energy\n",
    "        \n",
    "    def __str__(self):\n",
    "        '''\n",
    "        \n",
    "        '''\n",
    "        return f\"{self.species} with energy {self.energy}\"\n",
    "class Lion(Animal):\n",
    "    '''\n",
    "    \n",
    "    '''\n",
    "    def __init__(self, species, energy, mane_length, roar):\n",
    "        '''\n",
    "        \n",
    "        '''\n",
    "        super().__init__(species, energy)\n",
    "        self.mane_length = mane_length\n",
    "        self.roar = roar\n",
    "        \n",
    "    #method overriding \n",
    "    def __str__(self): \n",
    "        '''\n",
    "        '''\n",
    "        return f\"{self.species} with energy {self.energy} and length of {self.mane_length} can roar {self.roar}\"\n",
    "\n",
    "generic=Animal(\"Horse\",59)\n",
    "king_lion = Lion(\"Lion\", 100, 24, \"GRRRRR\")\n",
    "\n",
    "animals=[generic,king_lion]\n",
    "\n",
    "for animal in animals:\n",
    "    print(animal)\n"
   ]
  },
  {
   "cell_type": "markdown",
   "metadata": {},
   "source": [
    "#  OOP Practice Problem\n",
    "\n",
    "Objective: Practice inheritance, method overriding, `__init__`, `__str__()`, and polymorphism in Python.\n",
    "\n",
    "\n",
    "1. Create a base class `Vehicle` with the following attributes and methods:\n",
    "\n",
    "   - **Attributes:**  \n",
    "     - `brand` (string)  \n",
    "     - `speed` (integer, miles/hour)  \n",
    "     - `fuel` (string)  \n",
    "\n",
    "   - **Methods:**  \n",
    "     - `move()`: prints a generic message like  \n",
    "       Vehicle is moving at {speed} miles/hour\n",
    "     - `__str__()`: returns a string representing all attributes\n",
    "\n",
    "\n",
    "2. Create a subclass `Car` that inherits from `Vehicle`:\n",
    "\n",
    "   - Additional attributes:\n",
    "     - `doors` (integer)  \n",
    "     - `engine_type` (string, e.g., \"V6\")  \n",
    "\n",
    "   - Override the `move()` method to print something like:  \n",
    "     {brand} Car is driving at {speed} miles/hour with {engine_type} engine\n",
    "\n",
    "   - Override `__str__()` to include all attributes\n",
    "\n",
    "\n",
    "3. Create a subclass `Bike` that inherits from `Vehicle`:\n",
    "\n",
    "   - Additional attributes:\n",
    "     - `type_bike` (string, e.g., \"Mountain\", \"Road\")\n",
    "     - `has_gears` (boolean)  \n",
    "\n",
    "   - Override the `move()` method to print something like:  \n",
    "     {brand} Bike {type_bike} is pedaling at {speed} miles/hour with/without gears  \n",
    "\n",
    "   - Override `__str__()` to include all attributes\n",
    "\n",
    "4. Create at least one object of each class (`Vehicle`, `Car`, `Bike`) with sample data.\n",
    "\n",
    "5. Print all objects to check your `__str__()` methods.\n",
    "\n",
    "6. Demonstrate polymorphism: \n",
    "   - Store all objects in a list and call `move()` on each object.  \n",
    "   - Observe how each object responds differently.\n",
    "\n"
   ]
  }
 ],
 "metadata": {
  "anaconda-cloud": {},
  "kernelspec": {
   "display_name": "Python 3 (ipykernel)",
   "language": "python",
   "name": "python3"
  },
  "language_info": {
   "codemirror_mode": {
    "name": "ipython",
    "version": 3
   },
   "file_extension": ".py",
   "mimetype": "text/x-python",
   "name": "python",
   "nbconvert_exporter": "python",
   "pygments_lexer": "ipython3",
   "version": "3.13.5"
  }
 },
 "nbformat": 4,
 "nbformat_minor": 4
}
