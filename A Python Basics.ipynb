{
 "cells": [
  {
   "cell_type": "markdown",
   "metadata": {},
   "source": [
    "# [CPSC 322]() Data Science Algorithms\n",
    "[Gonzaga University](https://www.gonzaga.edu/) |\n",
    "[Sophina Luitel](https://www.gonzaga.edu/school-of-engineering-applied-science/faculty/detail/sophina-luitel-phd-0dba6a9d)\n",
    "\n",
    "---\n",
    "\n",
    "# Python Basics\n",
    "\n",
    "What are our learning objectives for this lesson?\n",
    "* Understand syntax of the Python programming language\n",
    "* Implement basic programming constructs in Python\n",
    "\n",
    "Content used in this lesson is based upon information in the following sources:\n",
    "* [Python Tutorial](https://docs.python.org/3/tutorial/index.html#the-python-tutorial)\n",
    "* Dr. Gina Sprint's notes"
   ]
  },
  {
   "cell_type": "markdown",
   "metadata": {},
   "source": [
    "## Today\n",
    "* Announcements\n",
    "    * Please take Practice Quiz to make sure Lockdown browser is set up for IQ1.\n",
    "    * LA2 (HelloWorld) submit URL in LA2 canvas to be graded. \n",
    "    * PA1 will be posted by tonight. Please read through it before next class and come with questions.\n",
    "* Python Basics\n",
    "* Work on the class activity (def count_vowels(word):)"
   ]
  },
  {
   "cell_type": "markdown",
   "metadata": {},
   "source": [
    "## Python Overview\n",
    "* Created by Guido van Rossum in the late 1980s.\n",
    "* Open-source and general-purpose.\n",
    "* Powerful yet easy to learn for beginners.\n",
    "* High-level language → syntax is close to pseudo-code.\n",
    "* Cross-platform → runs on any computer with a Python interpreter (like Java with a JVM).\n",
    "* Interpreted language → generally slower than compiled languages like C or Fortran, which are converted into machine code for specific processors.\n",
    "\n",
    "<img src=\"https://almablog-media.s3.ap-south-1.amazonaws.com/Frame_47_min_b472e0bbd0.png\" style=\"display:block; margin-left:auto; margin-right:auto;\" width=\"500\" height=\"400\" />\n",
    "\n",
    "Image from: [almabetter](https://almablog-media.s3.ap-south-1.amazonaws.com/Frame_47_min_b472e0bbd0.png)\n",
    "## Python Language Elements\n",
    "Python programs are built using several fundamental elements. These elements define the structure and behavior of your program and help the computer understand what to execute.\n",
    "\n",
    "**1. Reserved Keywords**\n",
    "\n",
    "* Python has several reserved words, called keywords, that have a special meaning in your program.\n",
    "* Cannot be used as variable or function names.\n",
    "* Examples of reserved keywords include `True`, `False`, `None`, `and`, `or`, `not`, `if`, `else`, `elif`, `in`, `is`, `pass`, `return`, `for`, `while`, etc.\n",
    "* In the near future, you will learn about these keywords and what they do!\n",
    "\n",
    "**2. Identifiers**\n",
    "\n",
    "Identifiers are the **names** used to label variables, functions, classes, or objects in Python. They make programs more readable and allow us to store and reference data.\n",
    "\n",
    "* Standard Identifiers\n",
    "  \n",
    "    - Predefined names built into Python. They represent constants, functions, and objects that come with the language.\n",
    "    - It is not recommended to redefine them.\n",
    "\n",
    "        **Examples:**\n",
    "\n",
    "        - `print(<text>)` -> displays text\n",
    "        - `input()` -> reads input from the keyboard\n",
    "        - `len(<sequence>)` -> returns the length of a sequence\n",
    "        - `type(<value>)` -> returns the data type\n",
    "\n",
    "* User-defined Identifiers\n",
    " \n",
    "   - Names given by programmers to identify variables, functions, classes, or objects.\n",
    "    - **Rules and Best Practices:**\n",
    "        - Identifiers can only contain **letters, numbers, and underscores** (`_`).\n",
    "        - Identifiers **cannot begin with a digit**.\n",
    "        - Avoid redefining **Python's standard identifiers** (like `list`, `str`, `int`).\n",
    "        - Choose **meaningful names**:\n",
    "        - Good: `radius` (for the radius of a cone)\n",
    "        - Avoid: `my_variable`\n",
    "        -  Use **underscores** between words for readability: `cone_volume`\n",
    "        -  Make names **distinct enough** to avoid confusion with other variables.  \n",
    "\n",
    "**Note:** Python is **case-sensitive** (`Radius` ≠ `radius`).\n",
    "  \n",
    "**Variables Declarations**\n",
    "\n",
    "- A variable is a specific type of **identifier** that refers to a named memory location used to store data. \n",
    "- In Python, a variable is created when a value is assigned to an identifier using the assignment operator =.\n",
    "- The value stored in a variable can change during program execution, which is why it is called a variable.\n",
    "The below instruction declares a variable called `radius` and stores the value `0.0` in the memory location associated with `radius`. `radius` is an example of a user-defined identifier."
   ]
  },
  {
   "cell_type": "code",
   "execution_count": 1,
   "metadata": {},
   "outputs": [],
   "source": [
    "radius=0.0"
   ]
  },
  {
   "cell_type": "markdown",
   "metadata": {},
   "source": [
    "**3. Literal**\n",
    "\n",
    "Fixed values in the code that represent data directly.\n",
    "Types include:\n",
    "\n",
    "* Numeric: 10, 3.14\n",
    "* String: \"Hello\", 'World'\n",
    "* Boolean: True, False\n",
    "\n",
    "**4. Comments**\n",
    "\n",
    "- Used to document code or temporarily disable code. Comments are ignored by the Python interpreter. \n",
    "    - Single-line: start with #\n",
    "    - Multi-line: use \"\"\" ... \"\"\" or ''' ... '''\n",
    "\n",
    "Use comments liberally in your code! They help others read your code (including yourself, months later when it isn't so fresh in your mind). In this class, you will be required to comment your code by adhering to the CptS 215 [Coding Standard].\n"
   ]
  },
  {
   "cell_type": "code",
   "execution_count": null,
   "metadata": {},
   "outputs": [],
   "source": [
    "# This is Single line comment\n",
    "x=10 # assigned 10 to variable x\n",
    "\n",
    "\"\"\"\n",
    "This is a multi-line comment.\n",
    "It can span multiple lines.\n",
    "Python ignores all these lines.\n",
    "\"\"\"\n",
    "y = 20\n",
    "\n",
    "'''\n",
    "This is also a multi-line comment.\n",
    "It can span multiple lines.\n",
    "Python ignores all these lines.\n",
    "'''\n",
    "z=10\n",
    "print(x,y,z)\n"
   ]
  },
  {
   "cell_type": "markdown",
   "metadata": {},
   "source": [
    "## Data Types\n",
    "\n",
    "All variables in Python have an associated **data type**.  \n",
    "A **data type** is a set of values and a set of operations that can be performed on those values.  \n",
    "\n",
    "**Examples of Data Types:**\n",
    "\n",
    "- **Integer (numeric)**\n",
    "    - **Values:** Whole numbers, e.g., `1`, `-10`, `5000`  \n",
    "    - **Operations:** `+`, `-`, `*`, `/`, `//` (integer division), `%` (modulo), and comparisons `>`, `<`, `<=`, `>=`, `==`, `!=`  \n"
   ]
  },
  {
   "cell_type": "code",
   "execution_count": null,
   "metadata": {},
   "outputs": [],
   "source": [
    "x = 10\n",
    "y = -3\n",
    "z = x + y      # 7\n",
    "mod = x % y    # 1"
   ]
  },
  {
   "cell_type": "markdown",
   "metadata": {},
   "source": [
    "- **Float (numeric)**\n",
    "    - **Values:** Real numbers (with a decimal point), e.g., 3.14, -1000.0\n",
    "    - **Operations:** +, -, *, / and comparisons >, <, <=, >=, ==, !="
   ]
  },
  {
   "cell_type": "code",
   "execution_count": null,
   "metadata": {},
   "outputs": [],
   "source": [
    "pi = 3.14\n",
    "temperature = -10.5\n",
    "total = pi + temperature  # -7.36"
   ]
  },
  {
   "cell_type": "markdown",
   "metadata": {},
   "source": [
    "- **String (sequence of characters)**\n",
    "  \n",
    "    - **Values:** Text enclosed in double or single quotes, e.g., \"cpsc322\", 'ABCD', \"123ABC\"\n",
    "    - **Operations:**\n",
    "        - `+` → concatenation (joins strings)\n",
    "        - `*` → repetition (repeats strings)\n",
    "**Notes:**\n",
    "    - Use either single ' ' or double \" \" quotes for strings.\n",
    "    - Even if a string looks like a number (e.g., \"5\"), it is not numeric."
   ]
  },
  {
   "cell_type": "code",
   "execution_count": null,
   "metadata": {},
   "outputs": [],
   "source": [
    "name = \"Python\"\n",
    "greeting = \"Hello \" + name   # \"Hello Python\"\n",
    "repeat = \"Hi! \" * 3          # \"Hi! Hi! Hi! \"\n",
    "concat_numbers = \"5\" + \"7\"   # \"57\""
   ]
  },
  {
   "cell_type": "markdown",
   "metadata": {},
   "source": [
    "- **Boolean Type (`bool`)**\n",
    "\n",
    "    - **Values:** `True` or `False`  \n",
    "    - **Operations:**\n",
    "        - `and` → returns `True` if both operands are True  \n",
    "        - `or` → returns `True` if at least one operand is True  \n",
    "        - `not` → inverts the boolean value  \n",
    "    - **From expressions:** Comparison and logical expressions return boolean values, e.g., `5 > 3` → `True`, `2 == 5` → `False`  \n",
    "\n",
    "**Notes:**  \n",
    "    - `True` and `False` are case-sensitive and must start with a capital letter.  \n",
    "    - In numeric contexts, `True` behaves like `1` and `False` behaves like `0`.  \n",
    "    - Used extensively in conditional statements and loops.\n",
    "\n",
    "\n"
   ]
  },
  {
   "cell_type": "markdown",
   "metadata": {},
   "source": [
    "**Check the data type of a variable:**"
   ]
  },
  {
   "cell_type": "code",
   "execution_count": null,
   "metadata": {},
   "outputs": [],
   "source": [
    "x = 10\n",
    "print(type(x))    # <class 'int'>\n",
    "x=7.5 \n",
    "print(type(x))   # <class 'float'>\n",
    "y = \"Hello\"\n",
    "print(type(y))    # <class 'str'>\n",
    "a = True\n",
    "\n",
    "print(type(a))  # <class 'bool'>\n"
   ]
  },
  {
   "cell_type": "markdown",
   "metadata": {},
   "source": [
    "- **Changing Type**\n",
    "\n",
    "    - **Implicit Type Conversion (Type Casting):**  \n",
    "        - Python automatically converts one data type to another without user intervention.  \n",
    "        - Happens when mixing compatible types in expressions.\n",
    "        - **Type Conversion Precedence (Lower → Higher)** :bool --> int --> float\n",
    "        - **Rules:**\n",
    "            - `bool` is treated as a subtype of `int` (`True → 1`, `False → 0`)  \n",
    "            - Implicit conversion works **only within numeric types**:\n",
    "            - `bool + int → int`  \n",
    "            - `int + float → float`  \n",
    "            - **Strings (`str`) are not implicitly converted** with numbers.\n",
    "\n",
    "    - **Explicit Type Conversion (Type Casting):**  \n",
    "        - The programmer explicitly converts a value from one type to another using functions like `int()`, `float()`, `str()`.  \n",
    "      \n",
    "\n",
    "**Notes:**  \n",
    "    - Implicit conversion occurs automatically; explicit conversion requires user intervention.  \n",
    "    - Conversion must be compatible; otherwise, it raises an error (e.g., `int(\"abc\")` is invalid).  \n"
   ]
  },
  {
   "cell_type": "code",
   "execution_count": 2,
   "metadata": {},
   "outputs": [
    {
     "name": "stdout",
     "output_type": "stream",
     "text": [
      "8.2 <class 'float'>\n",
      "6\n",
      "8.2\n",
      "10 <class 'int'>\n",
      "5.0 <class 'float'>\n",
      "3.14 <class 'str'>\n"
     ]
    }
   ],
   "source": [
    "#Example of Implicit type conversion\n",
    "x = 5       # int\n",
    "y = 3.2     # float\n",
    "z = x + y   # int is implicitly converted to float\n",
    "print(z, type(z))  # <class 'float'>\n",
    "\n",
    "#Example for Type Conversion Precedence (Lower → Higher)** :bool --> int --> float\n",
    "\n",
    "x = True      # bool\n",
    "y = 5         # int\n",
    "z = 3.2       # float\n",
    "\n",
    "print(x + y)   # 6      (bool --> int)\n",
    "print(y + z)   # 8.2    (int --> float)\n",
    "\n",
    "#Example of Implicit type conversion\n",
    "x = \"10\"\n",
    "y = int(x)      # string to integer\n",
    "print(y,type(y))\n",
    "z = 5\n",
    "f = float(z)    # integer to float\n",
    "print(f,type(f))\n",
    "n = 3.14\n",
    "s = str(n)      # float to string\n",
    "print(s, type(s))"
   ]
  },
  {
   "cell_type": "code",
   "execution_count": 22,
   "metadata": {},
   "outputs": [
    {
     "name": "stdout",
     "output_type": "stream",
     "text": [
      "1 <class 'int'>\n"
     ]
    }
   ],
   "source": [
    "num1 = 1.7 # float\n",
    "num1 = int(num1) # 1.7 explicitly casted to type int, 1\n",
    "print(num1, type(num1))\n",
    "\n",
    "num1 = 12 # int\n",
    "num2 = 0.0 # float\n",
    "num2 = num1 # num2 is now an int\n",
    "print(num2, type(num2))"
   ]
  },
  {
   "cell_type": "markdown",
   "metadata": {},
   "source": [
    "**Note:** `int()` truncates the fractional part of a floating point number. If you want to round the float instead, use `round()`. `round()` allows you to round a float to as many decimal places as you like: `round(<float>, n)` where `n` = number of decimal places. If you omit `n`, then `round(<float>)` returns a rounded integer:"
   ]
  },
  {
   "cell_type": "code",
   "execution_count": 50,
   "metadata": {},
   "outputs": [
    {
     "name": "stdout",
     "output_type": "stream",
     "text": [
      "5\n",
      "6\n",
      "5.9\n"
     ]
    }
   ],
   "source": [
    "x = 5.87\n",
    "print(int(x)) # truncates\n",
    "print(round(x)) # rounds to nearest integer\n",
    "print(round(x, 1)) # rounds to one decimal place"
   ]
  },
  {
   "cell_type": "markdown",
   "metadata": {},
   "source": [
    "## Input and Output (I/O) Statement\n",
    "\n",
    "* `input()` --> reads input from user\n",
    "* `print()` --> displays output on screen\n",
    "  \n",
    "\n",
    " *Strings and Placeholders in `print()`*\n",
    "\n",
    "- The text in quotes will be displayed on the screen.\n",
    "\n",
    "- Placeholders in strings allow you to insert variable values:  \n",
    "  - `%.2f` → floating-point number with *2 decimal places* \n",
    "  - `%d` → integer  \n",
    "  - `%s` → string\n",
    "  - You can also *control width and precision*:\n",
    "      -  `%7.2f` → floating-point with **7 total spaces** (minimum width) and **2 decimal places**.  \n",
    "      - If the number is shorter, it will be padded with spaces.  \n",
    "      - If it’s longer, it will just expand.\n",
    "\n",
    "- The variables listed in parentheses after the string correspond to the placeholders.  \n",
    "  **Order matters**:  \n",
    "  - The first variable replaces the first placeholder,  \n",
    "  - the second replaces the second, and so on."
   ]
  },
  {
   "cell_type": "code",
   "execution_count": null,
   "metadata": {},
   "outputs": [
    {
     "name": "stdout",
     "output_type": "stream",
     "text": [
      "Hello, World!\n",
      "Name: Harvey Age: 29\n",
      "Name: Harvey Age:  29\n",
      "Name: Harvey Age: 29\n",
      "Name: Harvey Age: 29\n",
      "Name: Harvey Age: 29\n",
      "Pi to two decimal places:3.14\n"
     ]
    }
   ],
   "source": [
    "# Taking user input\n",
    "name = input(\"Enter your name: \")\n",
    "age = int(input(\"Enter your age: \"))\n",
    "\n",
    "\n",
    "# Different ways to print\n",
    "\n",
    "# 1. Basic printing\n",
    "print(\"Hello, World!\")\n",
    "\n",
    "# 2. Printing multiple values\n",
    "print(\"Name:\", name, \"Age:\", age)\n",
    "\n",
    "# 3. Old-style formatting using % operator\n",
    "print(\"Name: %s Age: %3d\" % (name, age))\n",
    "\n",
    "# 4. Using .format() method\n",
    "print(\"Name: {} Age: {}\".format(name, age))\n",
    "print(\"Name: {n} Age: {a}\".format(n=name, a=age))\n",
    "\n",
    "# 5. Formatted strings (f-strings, modern way)\n",
    "print(f\"Name: {name} Age: {age}\")\n",
    "pi = 3.14159\n",
    "print(f\"Pi to two decimal places:{pi:.2f}\")\n"
   ]
  },
  {
   "cell_type": "markdown",
   "metadata": {},
   "source": [
    "Note: Adding `\"\\n\"` to a string will print a newline character, a non-printable character that starts the cursor on a new line. This can be useful if you want to add extra space between text without writing extra `print()` statements."
   ]
  },
  {
   "cell_type": "code",
   "execution_count": 18,
   "metadata": {},
   "outputs": [
    {
     "name": "stdout",
     "output_type": "stream",
     "text": [
      "Standard spacing\n",
      "Adding extra space with the newline character\n",
      "\n",
      "**Next line**\n"
     ]
    }
   ],
   "source": [
    "print(\"Standard spacing\")\n",
    "print(\"Adding extra space with the newline character\\n\")\n",
    "print(\"**Next line**\")"
   ]
  },
  {
   "cell_type": "markdown",
   "metadata": {},
   "source": [
    "**5. Operators**\n",
    "\n",
    "Operators are **symbols** that perform operations on values or variables. They allow you to compute results, compare data, assign values, and more.  \n",
    "\n",
    "When Python executes a statement like:\n",
    "\n",
    "\n",
    "`volume = length * width * height`\n",
    "\n",
    "It evaluates the expression on the right-hand side of the `=` operator and assigns the result to the variable `volume`.\n",
    "\n",
    "Python evaluates arithmetic expressions according to **operator precedence**, similar to PEMDAS:\n",
    "\n",
    "- **Parentheses:** `()`  \n",
    "- **Exponents:** `**`  \n",
    "- **Multiplication, Division, Floor Division, Modulus:** `*`, `/`, `//`, `%`  \n",
    "- **Addition, Subtraction:** `+`, `-`\n",
    "\n",
    "When operators have the **same precedence**, Python evaluates them **from left to right**.\n",
    "\n",
    "    \n",
    " 1. Arithmetic Operators\n",
    "Used for mathematical operations.\n",
    "Form: `operand1 operator operand2`\n",
    "* i.e. `x + y`\n",
    "\n",
    "| Operator | Meaning                  | Example (`x = 10, y = 3`) | Result   |\n",
    "|----------|--------------------------|----------------------------|----------|\n",
    "| `+`      | Addition                 | `x + y`                    | 13       |\n",
    "| `-`      | Subtraction              | `x - y`                    | 7        |\n",
    "| `*`      | Multiplication           | `x * y`                    | 30       |\n",
    "| `/`      | Division (float result)  | `x / y`                    | 3.333…   |\n",
    "| `//`     | Floor division           | `x // y`                   | 3        |\n",
    "| `%`      | Modulus (remainder)      | `x % y`                    | 1        |\n",
    "| `**`     | Exponentiation (power)   | `x ** y`                   | 1000     |\n",
    "\n",
    "\n",
    " 2. Comparison Operators\n",
    "Used to compare two values, returning `True` or `False`.\n",
    "\n",
    "| Operator | Meaning           | Example (`x = 10, y = 3`) | Result |\n",
    "|----------|------------------|----------------------------|--------|\n",
    "| `==`     | Equal to          | `x == y`                  | False  |\n",
    "| `!=`     | Not equal to      | `x != y`                  | True   |\n",
    "| `>`      | Greater than      | `x > y`                   | True   |\n",
    "| `<`      | Less than         | `x < y`                   | False  |\n",
    "| `>=`     | Greater or equal  | `x >= 10`                 | True   |\n",
    "| `<=`     | Less or equal     | `y <= 3`                  | True   |\n",
    "\n",
    "\n",
    "\n",
    " 3. Logical Operators\n",
    "Used to combine Boolean values (`True`/`False`).\n",
    "\n",
    "| Operator | Meaning                        | Example                   | Result |\n",
    "|----------|--------------------------------|---------------------------|--------|\n",
    "| `and`    | True if both conditions are True | `(x > 5 and y < 5)`      | True   |\n",
    "| `or`     | True if at least one condition is True | `(x > 5 or y > 10)` | True   |\n",
    "| `not`    | Reverses the Boolean value     | `not(x > y)`              | False  |\n",
    "\n",
    "\n",
    " 4. Assignment Operators/ \n",
    "Used to assign values, optionally combined with arithmetic.\n",
    "\n",
    "| Operator | Meaning                     | Example (`x = 5`) | Result |\n",
    "|----------|-----------------------------|--------------------|--------|\n",
    "| `=`      | Assign                      | `x = 5`           | 5      |\n",
    "| `+=`     | Add and assign              | `x += 3`          | 8      |\n",
    "| `-=`     | Subtract and assign         | `x -= 2`          | 3      |\n",
    "| `*=`     | Multiply and assign         | `x *= 4`          | 20     |\n",
    "| `/=`     | Divide and assign           | `x /= 2`          | 2.5    |\n",
    "| `//=`    | Floor divide and assign     | `x //= 2`         | 2      |\n",
    "| `%=`     | Modulus and assign          | `x %= 2`          | 1      |\n",
    "| `**=`    | Exponent and assign         | `x **= 3`         | 125    |\n",
    "\n",
    "\n",
    "5. Membership Operators\n",
    "Check if a value exists in a sequence (string, list, tuple, etc.).\n",
    "\n",
    "| Operator | Meaning                  | Example                  | Result |\n",
    "|----------|--------------------------|--------------------------|--------|\n",
    "| `in`     | Value exists             | `3 in [1,2,3,4]`         | True   |\n",
    "| `not in` | Value does not exist     | `\"a\" not in \"python\"`    | True   |\n",
    "\n",
    "\n",
    "\n",
    "6. Identity Operators\n",
    "Compare whether two objects share the same memory location.\n",
    "\n",
    "| Operator | Meaning              | Example      | Result |\n",
    "|----------|----------------------|--------------|--------|\n",
    "| `is`     | Same object identity | `x is y`     | True/False |\n",
    "| `is not` | Different identity   | `x is not y` | True/False |\n",
    "\n",
    "\n",
    "---"
   ]
  },
  {
   "cell_type": "markdown",
   "metadata": {},
   "source": [
    "The assignment operator '=' in programing is not the same as = in math\n",
    "* Math: y = x means y is equivalent to x\n",
    "* Programming: y = x means \"y is assigned x\"\n",
    " * = is an operator, not a relationship\n",
    " * Don't read it as \"y equals x\" \n",
    " * **Read it as \"y gets x\" or \"y is assigned to x\"** \n",
    "* Example: x = x + 1\n",
    "\n",
    "![](https://raw.githubusercontent.com/DataScienceAlgorithms/M2_Python/main/figures/assignment_example.png)\n",
    "\n",
    "Clearly not mathematically \"equal\"\n",
    "\n",
    "We can also assign the value of one variable to another:"
   ]
  },
  {
   "cell_type": "code",
   "execution_count": 6,
   "metadata": {},
   "outputs": [],
   "source": [
    "x = 5 # declare a new variable, x, and assign it the integer 5\n",
    "y = x # declare a new variable, y, and assign it the value of x (which is 5)\n",
    "y = -x # compute the negation of x (-5) and assign it to y"
   ]
  },
  {
   "cell_type": "markdown",
   "metadata": {},
   "source": [
    "### Defining a Function\n",
    "A *function definition* specifies the name of the function and the statements to be executed when the function is \"called\". We call a program by its name when we want to run it. A function definition follows the general template:\n",
    "```\n",
    "def <function_name>(input parameters):\n",
    "    '''\n",
    "    docstring\n",
    "    '''\n",
    "    executable statements\n",
    "    ...\n",
    "    return <output parameters>\n",
    "```\n",
    "There are several aspects of a function to note:\n",
    "* `def` is a keyword that let's Python know you are about to declare a function\n",
    "* The function name should follow similar naming conventions and style guidelines as function names. Note that function names are user-defined identifiers and should not redefine standard-identifiers (e.g. built-in functions) or previously declared user-identifiers (e.g. your own variables you've already declared).\n",
    "* The input parameters represent data coming in to your function. Don't forget the colon after the last parenthesis.\n",
    "* Together, `def`, function name, and input parameters form the *function header*\n",
    "* The remaining portion of the function is called the *function body*. **All statements of the function body should be indented 4 spaces**. Indentation is how Python *groups* the code you've written with the function header to collectively form the *function definition*.\n",
    "* A multi-line comment, called a docstring, immediately follows the function header. This is where you explain what the function does, what inputs it expects, what outputs it produces, what assumptions the function makes, etc. When you type `help(<function_name>)`, the text in the docstring is what shows up (cool!).\n",
    "* Following the docstring are one or more executable statements.\n",
    "* `return()` statements specify the output parameters (results) of your function. Although you can have multiple return statements, in this class we will typically only have one (good style usually dictates only having one return statement per function anyways).\n",
    "\n",
    "## Example"
   ]
  },
  {
   "cell_type": "code",
   "execution_count": 5,
   "metadata": {},
   "outputs": [
    {
     "name": "stdout",
     "output_type": "stream",
     "text": [
      "Help on function get_grade_point in module __main__:\n",
      "\n",
      "get_grade_point(course_name)\n",
      "    docstring for get_grade_point()\n",
      "\n",
      "    Prompts the user for a grade point based on a course.\n",
      "\n",
      "None\n",
      "Please enter the gpa for computer science:\n"
     ]
    },
    {
     "name": "stdout",
     "output_type": "stream",
     "text": [
      " 5\n"
     ]
    },
    {
     "name": "stdout",
     "output_type": "stream",
     "text": [
      "5.0\n"
     ]
    },
    {
     "name": "stdout",
     "output_type": "stream",
     "text": [
      " 3.6\n"
     ]
    },
    {
     "name": "stdout",
     "output_type": "stream",
     "text": [
      "3.6\n"
     ]
    }
   ],
   "source": [
    " def get_grade_point(course_name):\n",
    "    '''\n",
    "    docstring for get_grade_point()\n",
    "    \n",
    "    Prompts the user for a grade point based on a course.\n",
    "    '''\n",
    "    print(f\"Please enter the gpa for {course_name}:\")\n",
    "    gpa = float(input())\n",
    "    return gpa\n",
    "\n",
    "print(help(get_grade_point))\n",
    "gpa1 = get_grade_point(\"computer science\")\n",
    "print(gpa1)"
   ]
  },
  {
   "cell_type": "markdown",
   "metadata": {},
   "source": [
    "## Body-less Functions\n",
    "You can define a function without adding a body by simply placing the reserved keyword `pass` in the body. This can be useful when you want to test your program one function at a time or when you want to organize your program without actually writing the functions (or as a placeholder if someone else is writing the function). Example:"
   ]
  },
  {
   "cell_type": "code",
   "execution_count": 52,
   "metadata": {},
   "outputs": [],
   "source": [
    "def quadratic_root_finder(a, b, c):\n",
    "    '''\n",
    "    Applies the quadratic equation to find the roots of\n",
    "    a quadratic function specified by the formula ax^2 + bx + c = 0\n",
    "    \n",
    "    To efficiently be implemented by someone else!\n",
    "    '''\n",
    "    pass"
   ]
  },
  {
   "cell_type": "markdown",
   "metadata": {},
   "source": [
    "## Conditional Statements \n",
    "\n",
    "- **The `if` Statement**\n",
    "\n",
    "The if statement supports conditional execution in Python:\n",
    "```\n",
    "if <test>:\n",
    "    <body>\n",
    "```\n",
    "\n",
    "`<test>` must be an expression that can be evaluated to either `True` or `False` (non-zero or zero), i.e. `<test>` is a **Boolean condition**\n",
    "`<body>` is one or more Python statements that are **indented** 4 spaces (or one tab, depending on your text editor)"
   ]
  },
  {
   "cell_type": "code",
   "execution_count": 23,
   "metadata": {},
   "outputs": [
    {
     "name": "stdout",
     "output_type": "stream",
     "text": [
      "x is 5!!\n"
     ]
    }
   ],
   "source": [
    "x = 5\n",
    "\n",
    "if x == 5:\n",
    "    print(\"x is 5!!\")\n",
    "    \n",
    "if x == 7:\n",
    "    print(\"x is 7!!\")"
   ]
  },
  {
   "cell_type": "markdown",
   "metadata": {},
   "source": [
    "Python also defines an `if`-`else` statement:\n",
    "```\n",
    "if <test>:\n",
    "    <body-if-test-is-true>\n",
    "else:\n",
    "    <body-if-test-is-false>\n",
    "```\n",
    "\n",
    "**Only one of the two `<body>` blocks can be executed each time through this code**. In other words, they are \"mutually exclusive\".\n",
    "\n",
    "Note: the `else` has no `<test>` condition. The `else` body executes when the complement of `<test>` is True (i.e. `<test>` is False)."
   ]
  },
  {
   "cell_type": "code",
   "execution_count": 24,
   "metadata": {},
   "outputs": [
    {
     "name": "stdout",
     "output_type": "stream",
     "text": [
      "Brrrrr...\n"
     ]
    }
   ],
   "source": [
    "temperature = 10\n",
    "\n",
    "if temperature > 32:\n",
    "    print(\"It is warm out!\")\n",
    "else: # temperature <= 32\n",
    "    print(\"Brrrrr...\")"
   ]
  },
  {
   "cell_type": "markdown",
   "metadata": {},
   "source": [
    "- **Nested `if` Statements**\n",
    "  \n",
    "When a player's guess is not the number to guess (BC1 is False), we could give the hint in the body of the `else`. This would make sense because we only want to give a hint with BC1 is false, that is `players_guess != num_to_guess`. To do this, we can *nest* BC2 and BC3 in the `else` *body* of BC1 by indenting:"
   ]
  },
  {
   "cell_type": "code",
   "execution_count": 8,
   "metadata": {},
   "outputs": [
    {
     "name": "stdout",
     "output_type": "stream",
     "text": [
      "Please enter a number between 1 and 10 inclusive\n"
     ]
    },
    {
     "name": "stdin",
     "output_type": "stream",
     "text": [
      " 10\n"
     ]
    },
    {
     "name": "stdout",
     "output_type": "stream",
     "text": [
      "Unfortunately, you guessed the number incorrectly; however, I will give you a hint\n",
      "Your guess was too high\n"
     ]
    },
    {
     "name": "stdout",
     "output_type": "stream",
     "text": [
      " 5\n"
     ]
    },
    {
     "name": "stdout",
     "output_type": "stream",
     "text": [
      "Unfortunately, you guessed the number incorrectly; however, I will give you a hint\n",
      "Your guess was too high\n"
     ]
    }
   ],
   "source": [
    "num_to_guess = 4\n",
    "players_guess = 0\n",
    "\n",
    "print(\"Please enter a number between 1 and 10 inclusive\")\n",
    "players_guess = int(input())\n",
    "\n",
    "if players_guess == num_to_guess: # BC 1\n",
    "    print(\"Congrats, you guessed the number correctly\")\n",
    "else: # players_guess != num_to_guess:\n",
    "    print(\"Unfortunately, you guessed the number incorrectly; however, I will give you a hint\")\n",
    "    if players_guess > num_to_guess: # BC 2\n",
    "        print(\"Your guess was too high\")\n",
    "    # this fixes the boundary case of == num_to_guess that we had previously\n",
    "    else: # players_Guess <= num_to_guess\n",
    "        print(\"Your guess was too low\")"
   ]
  },
  {
   "cell_type": "markdown",
   "metadata": {},
   "source": [
    "You can nest `if` statements as many times as you like; however, try to keep your code readable! Also, try to collapse your boolean conditions when appropriate. For example:"
   ]
  },
  {
   "cell_type": "code",
   "execution_count": 26,
   "metadata": {},
   "outputs": [
    {
     "name": "stdout",
     "output_type": "stream",
     "text": [
      "Please enter a number between 1 and 10 inclusive\n"
     ]
    },
    {
     "name": "stdout",
     "output_type": "stream",
     "text": [
      " 3\n"
     ]
    },
    {
     "name": "stdout",
     "output_type": "stream",
     "text": [
      "You are wrong but you get to try again\n",
      "You are wrong but you get to try again\n"
     ]
    }
   ],
   "source": [
    "num_guesses = 3\n",
    "\n",
    "print(\"Please enter a number between 1 and 10 inclusive\")\n",
    "players_guess = int(input())\n",
    "\n",
    "if players_guess != num_to_guess:\n",
    "    if num_guesses > 0:\n",
    "        print(\"You are wrong but you get to try again\")\n",
    "        \n",
    "# the above nested if can collapse into a compound condition\n",
    "if players_guess != num_to_guess and num_guesses > 0:\n",
    "    print(\"You are wrong but you get to try again\")"
   ]
  },
  {
   "cell_type": "markdown",
   "metadata": {},
   "source": [
    "## Multiple-Alternative `if` Statements\n",
    "Sometimes we want to have multiple boolean conditions in the same block of mutually exclusive `if` statements. We can do this with *multiple-alternative if statements* and the `elif` keyword. `elif` stands for `else-if`. Think of `elif` like an `else` with a Boolean condition to test.\n",
    "\n",
    "Consider yet another rewrite of the guessing game code:"
   ]
  },
  {
   "cell_type": "code",
   "execution_count": 27,
   "metadata": {},
   "outputs": [
    {
     "name": "stdout",
     "output_type": "stream",
     "text": [
      "Please enter a number between 1 and 10 inclusive\n"
     ]
    },
    {
     "name": "stdout",
     "output_type": "stream",
     "text": [
      " 5\n"
     ]
    },
    {
     "name": "stdout",
     "output_type": "stream",
     "text": [
      "Your guess was too high\n"
     ]
    }
   ],
   "source": [
    "num_to_guess = 4\n",
    "players_guess = 0\n",
    "\n",
    "print(\"Please enter a number between 1 and 10 inclusive\")\n",
    "players_guess = int(input())\n",
    "\n",
    "# a guess is either equal to, greater than, or less than \n",
    "if players_guess == num_to_guess: # BC 1\n",
    "    print(\"Congrats, you guessed the number correctly\")\n",
    "elif players_guess > num_to_guess: # BC 2\n",
    "    print(\"Your guess was too high\")\n",
    "else: # players_guess < num_to_guess\n",
    "    print(\"Your guess was too low\")"
   ]
  },
  {
   "cell_type": "markdown",
   "metadata": {},
   "source": [
    "## Loops\n",
    "\n",
    "- **The `while` Loop**\n",
    "\n",
    "The `while` loop is of the following general form:\n",
    "\n",
    "```\n",
    "while <test>:\n",
    "    <body>\n",
    "```\n",
    "\n",
    "Where `<test>` is a Boolean condition and **`<body>` contains indented code that progresses towards the Boolean condition testing `False`** (a way to exit the loop).\n",
    "* `<test>` is evaluated at the beginning of the loop\n",
    "    * if `<test>` is `True`, `<body>` will be executed.\n",
    "    * if `<test>` is `False`, the first line of code *after* the indented `<body>` is executed.\n",
    "* After the last statement in `<body>` is executed, control is shifted back to the beginning of the loop and `<test>` is re-evaluated.\n",
    "* Progress towards the Boolean condition becoming `False` must be made in `<body>` Otherwise, we will have an infinite loop!\n",
    "\n",
    "![](https://www.tutorialspoint.com/python/images/python_while_loop.jpg)\n",
    "\n",
    "\n",
    "Image from: [Tutotialspoint](https://www.tutorialspoint.com/python/images/python_while_loop.jpg)\n",
    "\n",
    "Let's look at an example. Write a program to print `num_stars` number of stars:"
   ]
  },
  {
   "cell_type": "code",
   "execution_count": 28,
   "metadata": {},
   "outputs": [
    {
     "name": "stdout",
     "output_type": "stream",
     "text": [
      "**********\n",
      "\n"
     ]
    }
   ],
   "source": [
    "# initialize a loop control variable\n",
    "num_stars = 10\n",
    "\n",
    "while num_stars > 0: # boolean condition\n",
    "    # body of while loop. These indented statements will be repeated when the boolean condition is True\n",
    "    print(\"*\", end=\"\")\n",
    "    num_stars -= 1 # progress towards boolean condition being False\n",
    "\n",
    "# this is the first line of code to be executed once the boolean condition is False\n",
    "print(\"\\n\")"
   ]
  },
  {
   "cell_type": "markdown",
   "metadata": {},
   "source": [
    "- **The `for` Loop**\n",
    "  \n",
    "In addition to `while` loops, Python has another type of loop, the `for` loop. `for` loops have the general template\n",
    "\n",
    "```\n",
    "for <item> in <sequence>:\n",
    "    <body>\n",
    "```\n",
    "\n",
    "Where `<sequence>` contains a *finite number of items* to be iterated through. If `<sequence>` is not finite, then we have an infinite loop!\n",
    "\n",
    "![](https://www.tutorialspoint.com/python/images/python_for_loop.jpg)\n",
    "\n",
    "Image from: [Tutorialspoint](https://www.tutorialspoint.com/python/images/python_for_loop.jpg)"
   ]
  },
  {
   "cell_type": "markdown",
   "metadata": {},
   "source": [
    "- **`range()`**\n",
    "Often we want to run a loop for sequence of values starting at `start`, ending at `stop`, and incrementing by `step`. For example, consider the first 20 even numbers. We want to start generating numbers at 2, end at 40 (and include 40), and increase by 2: 2, 4, 6, 8,..., 38, 40.\n",
    "\n",
    "We can accomplish this by generating this sequence with the [`range()`](https://docs.python.org/3/library/functions.html#func-range) built-in Python function:\n",
    "\n",
    "`range(start, stop, step)`\n",
    "\n",
    "Let's re-write our \"first 20 even number code\" using a `for` loop:"
   ]
  },
  {
   "cell_type": "code",
   "execution_count": null,
   "metadata": {},
   "outputs": [],
   "source": [
    "for number in range(2, 42, 2):\n",
    "    print(number)\n",
    "    \n",
    "print(\"\\n\")\n",
    "\n",
    "for number in range(2, 42):\n",
    "    print(number)\n",
    "    \n",
    "print(\"\\n\")\n",
    "\n",
    "for number in range(2):\n",
    "    print(number)"
   ]
  },
  {
   "cell_type": "markdown",
   "metadata": {},
   "source": [
    "Note: `stop` specifies the index at which to terminate the loop. This is the Boolean condition, `number < stop`. When `number` equals or exceeds `stop`, the Boolean condition is `False` and the loop ends.\n",
    "\n",
    "Note: If you do not specify a `step`, it is assumed to be 1: `range(0, 10)`\n",
    "\n",
    "Note: If you only pass in one input argument to `range`, i.e. `range(10)`, `start` is assumed to be 0 and `stop` is the input argument value.\n",
    "\n",
    "In summary: `range(0, 10, 1):` is equivalent to `range(0, 10):` is equivalent to `range(10):`\n",
    "\n",
    "Try writing a program to prompt the user to enter a number, then using `for` loop to print as many stars as the number the user entered."
   ]
  },
  {
   "cell_type": "code",
   "execution_count": 30,
   "metadata": {},
   "outputs": [
    {
     "name": "stdout",
     "output_type": "stream",
     "text": [
      "Please enter the number of stars to print:  5\n"
     ]
    },
    {
     "name": "stdout",
     "output_type": "stream",
     "text": [
      "*****"
     ]
    }
   ],
   "source": [
    "num_stars = int(input(\"Please enter the number of stars to print: \"))\n",
    "\n",
    "for i in range(num_stars):\n",
    "    print(\"*\", end=\"\")"
   ]
  },
  {
   "cell_type": "markdown",
   "metadata": {},
   "source": [
    "- **`while` or `for` Loops?**\n",
    "  \n",
    "When to use which loop? Each loop construct lends itself more suitable for certain tasks:\n",
    "\n",
    "`for` loops:\n",
    "* Iterating through sequences\n",
    "    * Using `range()`\n",
    "    * Files\n",
    "    * Strings\n",
    "    * To be learned soon: lists, dictionaries\n",
    "* When we know the number of times we want to run our loop\n",
    "\n",
    "`while` loops:\n",
    "* Prompting the user for input\n",
    "* When we don't know the number of times we want to run our loop"
   ]
  },
  {
   "cell_type": "markdown",
   "metadata": {},
   "source": [
    "- **`break` Statement**\n",
    "  \n",
    "Sometimes we need to \"break\" out of a loop early, i.e. before the Boolean condition is `False`. We can accomplish this anywhere in the body of the loop with the `break` statement. \n",
    "\n",
    "As an example, suppose we want to get input from the user until they enter the string \"stop\". When the user enters \"stop\", we want to stop getting numbers from the user and take an early exit of our loop:"
   ]
  },
  {
   "cell_type": "code",
   "execution_count": 31,
   "metadata": {},
   "outputs": [
    {
     "name": "stdout",
     "output_type": "stream",
     "text": [
      "Please enter a string:  hello\n",
      "Please enter a string:  stop\n"
     ]
    }
   ],
   "source": [
    "while True:\n",
    "    line = input(\"Please enter a string: \")\n",
    "    if line == \"stop\":\n",
    "        break"
   ]
  },
  {
   "cell_type": "markdown",
   "metadata": {},
   "source": [
    "- **Nested Loops**\n",
    "  \n",
    "Loops within loops! Just like how we can have `if` statements within `if` statements (nested `if` statements), we do the same with loops. We just need to be conscientious of:\n",
    "* Indenting the bodies of the loops correctly\n",
    "* Progress towards all of the Boolean conditions eventually being false"
   ]
  },
  {
   "cell_type": "code",
   "execution_count": 18,
   "metadata": {},
   "outputs": [
    {
     "name": "stdout",
     "output_type": "stream",
     "text": [
      "0 \n",
      "1 0 \n",
      "2 0 1 \n",
      "3 0 1 2 \n",
      "4 0 1 2 3 \n"
     ]
    }
   ],
   "source": [
    "for i in range(0, 5):\n",
    "    print(\"%d \" %(i), end=\"\")\n",
    "    for j in range(0, i):\n",
    "        print(\"%d\" %(j), end=\" \")\n",
    "    print(\"\")"
   ]
  },
  {
   "cell_type": "markdown",
   "metadata": {},
   "source": [
    "# Practice Question\n",
    "* Write a function called count_vowels that:\n",
    "  - Takes a single string as input.\n",
    "  - Loops through each character in the string.\n",
    "  - Uses if/else to check whether each character is a vowel (a, e, i, o, u).\n",
    "  - Counts how many vowels are in the string.\n",
    "  - Returns the total count.\n",
    "* Then write a program that:\n",
    "  - Repeatedly asks the user to enter a word.\n",
    "  - Calls count_vowels for each word.\n",
    "  - Prints the number of vowels in the word.\n",
    "  - Prints \"No vowels found!\" if the word contains no vowels.\n",
    "  - Stops asking when the user types \"stop\".\n"
   ]
  },
  {
   "cell_type": "markdown",
   "metadata": {},
   "source": [
    "\n",
    "### Getting `help()`\n",
    "If you want more information about how to use a function, such as `print()`, ask Python! Type `help(<identifier name>)` to get more information about a variable, data type, function, etc. "
   ]
  },
  {
   "cell_type": "code",
   "execution_count": 54,
   "metadata": {},
   "outputs": [
    {
     "name": "stdout",
     "output_type": "stream",
     "text": [
      "Help on built-in function print in module builtins:\n",
      "\n",
      "print(...)\n",
      "    print(value, ..., sep=' ', end='\\n', file=sys.stdout, flush=False)\n",
      "    \n",
      "    Prints the values to a stream, or to sys.stdout by default.\n",
      "    Optional keyword arguments:\n",
      "    file:  a file-like object (stream); defaults to the current sys.stdout.\n",
      "    sep:   string inserted between values, default a space.\n",
      "    end:   string appended after the last value, default a newline.\n",
      "    flush: whether to forcibly flush the stream.\n",
      "\n"
     ]
    }
   ],
   "source": [
    "help(print)"
   ]
  },
  {
   "cell_type": "markdown",
   "metadata": {},
   "source": [
    "## Python Modules\n",
    "A *module* is a file that contains a collection of related variables and functions. Python provides several modules for us programmers to use in our programs. In order to use the variables and functions within a module, we have to let Python know we want to use the module with an `import <name of module>` statement. "
   ]
  },
  {
   "cell_type": "code",
   "execution_count": 56,
   "metadata": {},
   "outputs": [],
   "source": [
    "import math # math is a module containing... math functions!"
   ]
  },
  {
   "cell_type": "markdown",
   "metadata": {},
   "source": [
    "To access one of the variables or functions in a module, you type the module name (somewhere in the code *after* you import the module, remember Python executes code from top to bottom), followed by a dot, and then the name of the variable or function. For example, we can access an approximation of the mathematical constant `pi` ($\\pi$) in the `math` module:"
   ]
  },
  {
   "cell_type": "code",
   "execution_count": 57,
   "metadata": {},
   "outputs": [
    {
     "name": "stdout",
     "output_type": "stream",
     "text": [
      "3.141592653589793\n"
     ]
    }
   ],
   "source": [
    "print(math.pi)"
   ]
  },
  {
   "cell_type": "markdown",
   "metadata": {},
   "source": [
    "As another example, to access the square root function of the `math` module, use `math.sqrt()`:"
   ]
  },
  {
   "cell_type": "code",
   "execution_count": 58,
   "metadata": {},
   "outputs": [
    {
     "name": "stdout",
     "output_type": "stream",
     "text": [
      "Help on built-in function sqrt in module math:\n",
      "\n",
      "sqrt(x, /)\n",
      "    Return the square root of x.\n",
      "\n",
      "None\n",
      "2.0\n"
     ]
    }
   ],
   "source": [
    "# don't forget the help() command to learn more about a function\n",
    "print(help(math.sqrt))\n",
    "\n",
    "print(math.sqrt(4))"
   ]
  },
  {
   "cell_type": "markdown",
   "metadata": {},
   "source": [
    "## Math Functions\n",
    "The Python math module defines numerous useful mathematical functions. This library is an excellent example of the power of functions: commonly-used mathematical operations are packaged up in functions that can be re-used over and over. We don't have to define these functions or know how they work, we can simply call the functions and use the return value(s). Examples of math functions available for our use include:\n",
    "* `fabs()` for absolute values\n",
    "* `ceil()` for computing the ceiling of a number\n",
    "* `floor()` for computing the floor of a number\n",
    "* `cos()` for cosine function\n",
    "* `sin()` for sine function\n",
    "* `tan()` for tangent function\n",
    "* `pow()` for raising a number to its power\n",
    "* `log()` for logarithms (see also `log2()` and `log10()`\n",
    "* `sqrt()` for computing square roots\n",
    "\n",
    "Note: trig functions expect arguments in radians, not degrees. To convert degrees to radians, multiply by (`math.pi` / 180) or use the `radians()` function in the `math` module.\n",
    "\n",
    "You can find out all the functions available within a module by importing the module, typing the module name and a dot, then pressing tab. This \"auto-complete\" feature is super helpful when learning a new library or when you can't remember the name of a function."
   ]
  },
  {
   "cell_type": "code",
   "execution_count": 59,
   "metadata": {},
   "outputs": [
    {
     "name": "stdout",
     "output_type": "stream",
     "text": [
      "Absolute value of -5: 5\n",
      "45 degrees in radians is 0.79\n",
      "The sine of 45 degrees is 0.71\n"
     ]
    }
   ],
   "source": [
    "x = -5\n",
    "print(\"Absolute value of %d: %d\" %(x, math.fabs(x)))\n",
    "\n",
    "degrees = 45\n",
    "rads = degrees * (math.pi / 180.0)\n",
    "print(\"%d degrees in radians is %.2f\" %(degrees, rads))\n",
    "print(\"The sine of %d degrees is %.2f\" %(degrees, math.sin(rads)))"
   ]
  },
  {
   "cell_type": "markdown",
   "metadata": {},
   "source": [
    "## Random Numbers\n",
    "To generate random numbers, we need to import the `random` module. Then, we will call the function `randrange(start, stop)` to generate a random number in the range `start` to `stop - 1`."
   ]
  },
  {
   "cell_type": "code",
   "execution_count": 33,
   "metadata": {},
   "outputs": [
    {
     "name": "stdout",
     "output_type": "stream",
     "text": [
      "7\n"
     ]
    }
   ],
   "source": [
    "import random\n",
    "\n",
    "# get a random number in the range [0, 9] inclusive\n",
    "rand_num = random.randrange(0, 10)\n",
    "print(rand_num)"
   ]
  }
 ],
 "metadata": {
  "anaconda-cloud": {},
  "kernelspec": {
   "display_name": "Python 3 (ipykernel)",
   "language": "python",
   "name": "python3"
  },
  "language_info": {
   "codemirror_mode": {
    "name": "ipython",
    "version": 3
   },
   "file_extension": ".py",
   "mimetype": "text/x-python",
   "name": "python",
   "nbconvert_exporter": "python",
   "pygments_lexer": "ipython3",
   "version": "3.13.5"
  }
 },
 "nbformat": 4,
 "nbformat_minor": 4
}
