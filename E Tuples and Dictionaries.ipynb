{
 "cells": [
  {
   "cell_type": "markdown",
   "metadata": {},
   "source": [
    "# [CPSC 322]() Data Science Algorithms\n",
    "[Gonzaga University](https://www.gonzaga.edu/) |\n",
    "[Sophina Luitel](https://www.gonzaga.edu/school-of-engineering-applied-science/faculty/detail/sophina-luitel-phd-0dba6a9d)\n",
    "\n",
    "---\n",
    "\n",
    "\n",
    "# Tuples and Dictionaries\n",
    "\n",
    "What are our learning objectives for this lesson?\n",
    "* Work with commonly used built-in Python data structures\n",
    "    * Tuples\n",
    "    * Dictionaries\n",
    "\n",
    "Content used in this lesson is based upon information in the following sources:\n",
    "* None to report\n"
   ]
  },
  {
   "cell_type": "markdown",
   "metadata": {},
   "source": [
    "## Tuples\n",
    "\n",
    "So far, we have seen two types of sequential collections: strings, made of characters, and lists, made of elements of any type. Lists can be modified, but strings cannot, so strings are immutable and lists are mutable.\n",
    "\n",
    "A tuple is another sequence that can hold items of any type. Like lists, tuples store multiple values, but they are immutable. Tuples are written as a comma-separated sequence of values, usually enclosed in parentheses."
   ]
  },
  {
   "cell_type": "code",
   "execution_count": 36,
   "metadata": {},
   "outputs": [
    {
     "name": "stdout",
     "output_type": "stream",
     "text": [
      "('x', 'y', 'z')\n",
      "<class 'tuple'>\n",
      "(1,)\n",
      "a\n",
      "<class 'str'>\n",
      "()\n",
      "<class 'tuple'>\n"
     ]
    }
   ],
   "source": [
    "my_tuple = \"x\", \"y\", \"z\"\n",
    "print(my_tuple)\n",
    "print(type(my_tuple))\n",
    "\n",
    "# need a comma after a single element initialization\n",
    "my_tuple2 = (1, )\n",
    "print(my_tuple2)\n",
    "\n",
    "# need a comma after a single element initialization\n",
    "not_a_tuple = (\"a\")\n",
    "print(not_a_tuple)\n",
    "print(type(not_a_tuple))\n",
    "\n",
    "# creating an empty tuple\n",
    "empty_tuple = tuple()\n",
    "print(empty_tuple)\n",
    "print(type(empty_tuple))"
   ]
  },
  {
   "cell_type": "markdown",
   "metadata": {},
   "source": [
    "Tuple indexing and slicing works the same as for lists:"
   ]
  },
  {
   "cell_type": "code",
   "execution_count": 37,
   "metadata": {},
   "outputs": [
    {
     "name": "stdout",
     "output_type": "stream",
     "text": [
      "y\n",
      "('x', 'y')\n"
     ]
    }
   ],
   "source": [
    "my_tuple = (\"x\", \"y\", \"z\")\n",
    "print(my_tuple[1])\n",
    "print(my_tuple[0:2])"
   ]
  },
  {
   "cell_type": "markdown",
   "metadata": {},
   "source": [
    "HOWEVER, tuples are immutable, so you cannot modify them. The follow code demonstrates the immutability of tuples:"
   ]
  },
  {
   "cell_type": "code",
   "execution_count": 39,
   "metadata": {},
   "outputs": [
    {
     "ename": "TypeError",
     "evalue": "'tuple' object does not support item assignment",
     "output_type": "error",
     "traceback": [
      "\u001b[0;31m---------------------------------------------------------------------------\u001b[0m",
      "\u001b[0;31mTypeError\u001b[0m                                 Traceback (most recent call last)",
      "\u001b[0;32m<ipython-input-39-f1ed5160cbe5>\u001b[0m in \u001b[0;36m<module>\u001b[0;34m\u001b[0m\n\u001b[1;32m      1\u001b[0m \u001b[0mmy_tuple\u001b[0m \u001b[0;34m=\u001b[0m \u001b[0;34m(\u001b[0m\u001b[0;34m\"x\"\u001b[0m\u001b[0;34m,\u001b[0m \u001b[0;34m\"y\"\u001b[0m\u001b[0;34m,\u001b[0m \u001b[0;34m\"z\"\u001b[0m\u001b[0;34m)\u001b[0m\u001b[0;34m\u001b[0m\u001b[0;34m\u001b[0m\u001b[0m\n\u001b[1;32m      2\u001b[0m \u001b[0;31m# crashes! tuples are immutable, you cannot change them\u001b[0m\u001b[0;34m\u001b[0m\u001b[0;34m\u001b[0m\u001b[0;34m\u001b[0m\u001b[0m\n\u001b[0;32m----> 3\u001b[0;31m \u001b[0mmy_tuple\u001b[0m\u001b[0;34m[\u001b[0m\u001b[0;36m2\u001b[0m\u001b[0;34m]\u001b[0m \u001b[0;34m=\u001b[0m \u001b[0;34m\"a\"\u001b[0m\u001b[0;34m\u001b[0m\u001b[0;34m\u001b[0m\u001b[0m\n\u001b[0m",
      "\u001b[0;31mTypeError\u001b[0m: 'tuple' object does not support item assignment"
     ]
    }
   ],
   "source": [
    "my_tuple = (\"x\", \"y\", \"z\")\n",
    "# crashes! tuples are immutable, you cannot change them\n",
    "my_tuple[2] = \"a\""
   ]
  },
  {
   "cell_type": "markdown",
   "metadata": {},
   "source": [
    "## Concatenation, Repetition, and Methods\n",
    "\n",
    "### 1. Concatenation\n",
    "- Combine two or more tuples to create a new tuple.\n",
    "\n",
    "### 2. Repetition\n",
    "- Repeat the elements of a tuple multiple times using *.\n",
    "\n"
   ]
  },
  {
   "cell_type": "code",
   "execution_count": 26,
   "metadata": {},
   "outputs": [
    {
     "name": "stdout",
     "output_type": "stream",
     "text": [
      "(1, 2, 3, 4)\n",
      "(1, 2, 1, 2, 1, 2)\n"
     ]
    }
   ],
   "source": [
    "a = (1, 2)\n",
    "b = (3,4)\n",
    "\n",
    "print(a+b)\n",
    "\n",
    "#repetition\n",
    "t = (1, 2)\n",
    "print(t* 3)  # (1, 2, 1, 2, 1, 2)\n",
    "\n"
   ]
  },
  {
   "cell_type": "markdown",
   "metadata": {},
   "source": [
    "### Methods\n",
    "\n",
    "- Tuples are immutable, so they have very few methods.\n",
    "- You cannot change, add, or remove elements in a tuple. But if a tuple contains a mutable object (like a list), that object can be modified.\n",
    "\n",
    "| Method        | Description                                           | Example                       | Output |\n",
    "|---------------|-------------------------------------------------------|-------------------------------|--------|\n",
    "| `count(value)` | Counts how many times `value` appears in the tuple  | `(1, 2, 2, 3).count(2)`      | 2      |\n",
    "| `index(value)` | Returns the index of the first occurrence of `value` | `(1, 2, 2, 3).index(3)`      | 3      |\n",
    "\n",
    "**Note:**\n",
    "- Since tuples are immutable, methods like `append()`, `remove()`, or `pop()` do not exist.\n",
    "- Any operation that seems to “change” a tuple (like concatenation or repetition) creates a new tuple instead.\n"
   ]
  },
  {
   "cell_type": "code",
   "execution_count": 18,
   "metadata": {},
   "outputs": [
    {
     "name": "stdout",
     "output_type": "stream",
     "text": [
      "(23, [1, 2, 3, 5], 'Harvey')\n"
     ]
    }
   ],
   "source": [
    "# if a tuple contains a mutable object, you can modify\n",
    "my_tuple =(23,[1,2,3],\"Harvey\")\n",
    "my_tuple[1].append(5)\n",
    "print(my_tuple)\n"
   ]
  },
  {
   "cell_type": "markdown",
   "metadata": {},
   "source": [
    "### Tuple Use Cases\n",
    "- Fixed collections that should not change\n",
    "- Dictionary keys\n",
    "- Returning multiple values from functions\n",
    "- Lightweight and memory-efficient compared to lists"
   ]
  },
  {
   "cell_type": "code",
   "execution_count": 25,
   "metadata": {},
   "outputs": [
    {
     "name": "stdout",
     "output_type": "stream",
     "text": [
      "(6, 36)\n",
      "<class 'tuple'>\n"
     ]
    }
   ],
   "source": [
    "#returning multiple values from functions\n",
    "def squareValue(num):\n",
    "    '''\n",
    "    '''\n",
    "    return num, num*num\n",
    "\n",
    "val=squareValue(6)\n",
    "print(val)\n",
    "print(type(val))\n"
   ]
  },
  {
   "cell_type": "markdown",
   "metadata": {},
   "source": [
    "## Key-Value Pairs\n",
    "\n",
    "Some items act as unique identifiers. For example:  \n",
    "* Student ID number  \n",
    "* Library card number  \n",
    "* Passport number  \n",
    "* Vehicle registration number  \n",
    "\n",
    "These items are all **keys** because they uniquely identify something. For instance, at a university, there may be several students named \"John Smith.\" How does the university distinguish between them? Each student is assigned a unique student ID:\n",
    "\n",
    "| Student ID | Last Name | First Name |\n",
    "|------------|-----------|------------|\n",
    "| 10234      | Smith     | Jane       |\n",
    "| 10456      | Smith     | John       |\n",
    "| 10789      | Smith     | John       |\n",
    "| 10901      | Brown     | Alex       |\n",
    "\n",
    "Here, the **key** is the student ID, and the **value** is the student’s record (name, courses, grades, etc.). Together, they form a **key-value pair**.  \n",
    "\n",
    "- Keys must be unique.  \n",
    "- Values can be repeated.  \n",
    "- A structure that stores keys and their corresponding values is called a **dictionary**.\n",
    "\n",
    "\n",
    "## Dictionaries\n",
    "A dictionary is like a list, but instead of numeric indices, it uses **keys**. Keys can be integers, strings, or other immutable types, but **not lists**.  \n",
    "\n",
    "- Dictionaries are declared using curly braces `{ }.  \n",
    "\n",
    "## Dictionary Operations\n",
    "**1. Creating**"
   ]
  },
  {
   "cell_type": "code",
   "execution_count": 68,
   "metadata": {},
   "outputs": [
    {
     "name": "stdout",
     "output_type": "stream",
     "text": [
      "{}\n",
      "{}\n"
     ]
    }
   ],
   "source": [
    "# declares an empty dictionary\n",
    "my_dict = {}\n",
    "print(my_dict)\n",
    "# can also use dict()\n",
    "my_second_dict = dict()\n",
    "print(my_second_dict)"
   ]
  },
  {
   "cell_type": "markdown",
   "metadata": {},
   "source": [
    "We can initialize a dictionary with values using comma separated `key:value` pairs:"
   ]
  },
  {
   "cell_type": "code",
   "execution_count": 33,
   "metadata": {},
   "outputs": [
    {
     "name": "stdout",
     "output_type": "stream",
     "text": [
      "{'washington': 'olympia', 'idaho': 'boise', 'oregon': 'portland'}\n",
      "dict_keys(['washington', 'idaho', 'oregon'])\n"
     ]
    }
   ],
   "source": [
    "state_capitals = {'washington': 'olympia', 'idaho': 'boise', 'oregon': 'portland'}\n",
    "print(state_capitals)\n",
    "\n"
   ]
  },
  {
   "cell_type": "markdown",
   "metadata": {},
   "source": [
    "We can create a dictionary from a list of tuples, where each tuple in the list is a key-value pair:"
   ]
  },
  {
   "cell_type": "code",
   "execution_count": 38,
   "metadata": {},
   "outputs": [
    {
     "name": "stdout",
     "output_type": "stream",
     "text": [
      "{'I': 1, 'V': 5, 'X': 10, 'L': 50}\n"
     ]
    }
   ],
   "source": [
    "# roman numerals\n",
    "values = [(\"I\",1), (\"V\", 5), (\"X\", 10), (\"L\", 50)]\n",
    "roman_numerals = dict(values)\n",
    "print(roman_numerals)"
   ]
  },
  {
   "cell_type": "markdown",
   "metadata": {},
   "source": [
    "We can also convert a dictionary back to a list of tuples with the dictionary method `items()` and the built-in function `list()`:"
   ]
  },
  {
   "cell_type": "code",
   "execution_count": 57,
   "metadata": {},
   "outputs": [
    {
     "name": "stdout",
     "output_type": "stream",
     "text": [
      "[('I', 1), ('V', 5), ('X', 10), ('L', 50)]\n"
     ]
    }
   ],
   "source": [
    "list_of_tuples = list(roman_numerals.items())\n",
    "print(list_of_tuples)"
   ]
  },
  {
   "cell_type": "markdown",
   "metadata": {},
   "source": [
    "**2. Accessing**\n",
    "- We can access an item via a key using hard brackets `[ ]` (similar to indexing into a list)\n",
    "- If the key does not exist, an error occurs unless a safe access method is used.  "
   ]
  },
  {
   "cell_type": "code",
   "execution_count": 77,
   "metadata": {},
   "outputs": [
    {
     "name": "stdout",
     "output_type": "stream",
     "text": [
      "The capital of idaho is boise\n"
     ]
    }
   ],
   "source": [
    "state_capitals = {'washington': 'olympia', 'idaho': 'boise', 'oregon': 'portland'}\n",
    "print(f\"The capital of idaho is {state_capitals['idaho']}\")\n"
   ]
  },
  {
   "cell_type": "code",
   "execution_count": 85,
   "metadata": {},
   "outputs": [
    {
     "name": "stdout",
     "output_type": "stream",
     "text": [
      "Not found\n"
     ]
    },
    {
     "ename": "KeyError",
     "evalue": "'california'",
     "output_type": "error",
     "traceback": [
      "\u001b[1;31m---------------------------------------------------------------------------\u001b[0m",
      "\u001b[1;31mKeyError\u001b[0m                                  Traceback (most recent call last)",
      "Cell \u001b[1;32mIn[85], line 4\u001b[0m\n\u001b[0;32m      1\u001b[0m \u001b[38;5;66;03m#using get() to safely access\u001b[39;00m\n\u001b[0;32m      2\u001b[0m \u001b[38;5;28mprint\u001b[39m(state_capitals\u001b[38;5;241m.\u001b[39mget(\u001b[38;5;124m'\u001b[39m\u001b[38;5;124mcalifornia\u001b[39m\u001b[38;5;124m'\u001b[39m,\u001b[38;5;124m'\u001b[39m\u001b[38;5;124mNot found\u001b[39m\u001b[38;5;124m'\u001b[39m)) \u001b[38;5;66;03m# get() returns 'None' or a default value you specify\u001b[39;00m\n\u001b[1;32m----> 4\u001b[0m \u001b[38;5;28mprint\u001b[39m(\u001b[43mstate_capitals\u001b[49m\u001b[43m[\u001b[49m\u001b[38;5;124;43m'\u001b[39;49m\u001b[38;5;124;43mcalifornia\u001b[39;49m\u001b[38;5;124;43m'\u001b[39;49m\u001b[43m]\u001b[49m)\n",
      "\u001b[1;31mKeyError\u001b[0m: 'california'"
     ]
    }
   ],
   "source": [
    "\n",
    "#using get() to safely access\n",
    "print(state_capitals.get('california','Not found')) # get() returns 'None' or a default value you specify\n",
    "\n",
    "print(state_capitals['california'])"
   ]
  },
  {
   "cell_type": "markdown",
   "metadata": {},
   "source": [
    "**3. Adding & Updating**\n",
    "\n",
    "Since dictionaries are *mutable*, we can add key-value pairs to the dictionary using hard brackets `[ ]`:"
   ]
  },
  {
   "cell_type": "code",
   "execution_count": 97,
   "metadata": {},
   "outputs": [
    {
     "name": "stdout",
     "output_type": "stream",
     "text": [
      "{'washington': 'olympia', 'idaho': 'boise', 'oregon': 'portland'}\n",
      "{'washington': 'olympia', 'idaho': 'boise', 'oregon': 'portland', 'montana': 'helena'}\n",
      "{'washington': 'olympia', 'idaho': 'boise', 'oregon': 'portland', 'montana': 'HELENA'}\n",
      "{'washington': 'olympia', 'idaho': 'boise', 'oregon': 'portland', 'montana': 'helena', 'california': 'sacramento'}\n",
      "{'washington': 'olympia', 'idaho': 'boise', 'oregon': 'portland', 'montana': 'helena', 'california': 'sacramento', 'nevada': 'carson city', 'arizona': 'phoenix'}\n"
     ]
    }
   ],
   "source": [
    "state_capitals = {'washington': 'olympia', 'idaho': 'boise', 'oregon': 'portland'}\n",
    "print(state_capitals)\n",
    "#adds new key-value pair if key doesn't exist\n",
    "state_capitals['montana'] = 'helena'\n",
    "print(state_capitals)\n",
    "\n",
    "#updates if key already exists\n",
    "state_capitals['montana']= 'HELENA'\n",
    "print(state_capitals) \n",
    "\n",
    "#update() method can be used to add or update mutiple values\n",
    "state_capitals.update({'montana':'helena', 'california': 'sacramento'})\n",
    "print(state_capitals)\n",
    "\n",
    "#can merge another dictionary into the existing one.\n",
    "capital={'nevada':'carson city','arizona':'phoenix'}\n",
    "state_capitals.update(capital)\n",
    "print(state_capitals)\n"
   ]
  },
  {
   "cell_type": "markdown",
   "metadata": {},
   "source": [
    "Note: keys in a dictionary are not sorted in any particular order.\n",
    "\n",
    "**4. Deleting**\n",
    "\n",
    "- Remove a key-value pair by its key.  \n",
    "- Remove and return a value using a method.  \n",
    "- Clear all entries from the dictionary.  \n"
   ]
  },
  {
   "cell_type": "code",
   "execution_count": 67,
   "metadata": {},
   "outputs": [
    {
     "name": "stdout",
     "output_type": "stream",
     "text": [
      "{10234: ['Jane', 'Smith', 'CS', 'Junior'], 10456: ['John', 'Smith', 'CS'], 11234: ['Jane', 'Smith', 'Math', 'Senior']}\n",
      "Removed: ['John', 'Smith', 'CS']\n",
      "{10234: ['Jane', 'Smith', 'CS', 'Junior'], 11234: ['Jane', 'Smith', 'Math', 'Senior']}\n",
      "Last removed: (11234, ['Jane', 'Smith', 'Math', 'Senior'])\n",
      "{10234: ['Jane', 'Smith', 'CS', 'Junior']}\n",
      "{}\n"
     ]
    }
   ],
   "source": [
    "\n",
    "students = {10234: ['Jane', 'Smith','CS','Junior'], 10456: ['John','Smith','CS'],10789: ['Alice','Johnson','Math'],11234: ['Jane','Smith','Math','Senior']}\n",
    "\n",
    "# Delete a key-value pair by key\n",
    "del students[10789]\n",
    "print(students)\n",
    "\n",
    "# Remove and return value with pop()\n",
    "removed = students.pop(10456)\n",
    "print(\"Removed:\", removed)\n",
    "print(students)\n",
    "\n",
    "# Remove the last inserted key-value pair with popitem()\n",
    "last = students.popitem()\n",
    "print(\"Last removed:\", last)\n",
    "print(students)\n",
    "\n",
    "\n",
    "# # Clear all items\n",
    "students.clear()\n",
    "print(students) \n",
    "\n"
   ]
  },
  {
   "cell_type": "markdown",
   "metadata": {},
   "source": [
    "**5. Membership**\n",
    "-  We can test if a key is a valid key in the dictionary with the `in` keyword:"
   ]
  },
  {
   "cell_type": "code",
   "execution_count": 98,
   "metadata": {},
   "outputs": [
    {
     "name": "stdout",
     "output_type": "stream",
     "text": [
      "False\n",
      "True\n",
      "False\n"
     ]
    }
   ],
   "source": [
    "state_capitals = {'washington': 'olympia', 'idaho': 'boise', 'oregon': 'portland'}\n",
    "\n",
    "print('california' in state_capitals)\n",
    "print('idaho' in state_capitals)\n",
    "print('olympia' in state_capitals)"
   ]
  },
  {
   "cell_type": "markdown",
   "metadata": {},
   "source": [
    "**6. Iterating**\n",
    "- We can traverse a dictionary using a for loop. Depending on what we need, we can loop over **keys**, **values**, or **key-value pairs**."
   ]
  },
  {
   "cell_type": "code",
   "execution_count": 56,
   "metadata": {},
   "outputs": [
    {
     "name": "stdout",
     "output_type": "stream",
     "text": [
      "10234:['Jane', 'Smith', 'CS', 'junior']\n",
      "10456:['John', 'Smith', 'CS']\n",
      "10789:['John', 'Smith']\n",
      "10234\n",
      "10456\n",
      "10789\n",
      "['Jane', 'Smith', 'CS', 'junior']\n",
      "['John', 'Smith', 'CS']\n",
      "['John', 'Smith']\n",
      "10234 : ['Jane', 'Smith', 'CS', 'junior']\n",
      "10456 : ['John', 'Smith', 'CS']\n",
      "10789 : ['John', 'Smith']\n"
     ]
    }
   ],
   "source": [
    "\n",
    "students={10234: ['Jane', 'Smith','CS','junior'], 10456: ['John','Smith','CS'], 10789: ['John','Smith']}\n",
    "\n",
    "\n",
    "for student in students:    # we can use keys to access values\n",
    "    print(f\"{student}:{students[student]}\")\n",
    "\n",
    "for key in students.keys(): # Keys\n",
    "    print(key)\n",
    "\n",
    "for value in students.values():   # Values\n",
    "    print(value)\n",
    "\n",
    "for key, value in students.items(): # Key-Value pairs\n",
    "    print(key, \":\", value)\n"
   ]
  },
  {
   "cell_type": "markdown",
   "metadata": {},
   "source": [
    "## Useful Operations\n",
    "- `len()` → returns the number of key-value pairs.  \n",
    "- `.keys()` → returns all keys.  \n",
    "- `.values()` → returns all values.  \n",
    "- `.items()` → returns all key-value pairs.  "
   ]
  },
  {
   "cell_type": "code",
   "execution_count": 111,
   "metadata": {},
   "outputs": [
    {
     "name": "stdout",
     "output_type": "stream",
     "text": [
      "3\n",
      "dict_keys([10234, 10456, 10789])\n",
      "dict_values([['Jane', 'Smith', 'CS', 'junior'], ['John', 'Smith', 'CS'], ['John', 'Smith']])\n",
      "dict_items([(10234, ['Jane', 'Smith', 'CS', 'junior']), (10456, ['John', 'Smith', 'CS']), (10789, ['John', 'Smith'])])\n"
     ]
    }
   ],
   "source": [
    "students={10234: ['Jane', 'Smith','CS','junior'], 10456: ['John','Smith','CS'], 10789: ['John','Smith']}\n",
    "\n",
    "# returns number of key-value pairs\n",
    "print(len(students))\n",
    "\n",
    "#returns all keys\n",
    "print(students.keys())\n",
    "\n",
    "\n",
    "#returns all values\n",
    "print(students.values())\n",
    "\n",
    "#returns all key-value pairs\n",
    "print(students.items())"
   ]
  },
  {
   "cell_type": "markdown",
   "metadata": {},
   "source": [
    "## Example Problem: Letter Frequencies\n",
    "Suppose we want to keep track of the frequency of letters in a word. For example, the word \"hello\" has 4 letters with the following frequencies:\n",
    "* h: 1\n",
    "* e: 1\n",
    "* l: 2\n",
    "* o: 1\n",
    "\n",
    "Let's write a program to prompt the user to enter a word. Our program will tell the user the frequency of each letter in the word."
   ]
  },
  {
   "cell_type": "code",
   "execution_count": 146,
   "metadata": {},
   "outputs": [
    {
     "name": "stdin",
     "output_type": "stream",
     "text": [
      "Enter a word:  hello\n"
     ]
    },
    {
     "name": "stdout",
     "output_type": "stream",
     "text": [
      "{'h': 1, 'e': 1, 'l': 2, 'o': 1}\n"
     ]
    }
   ],
   "source": [
    "def compute_letter (word):\n",
    "    '''\n",
    "    '''\n",
    "    histogram={}\n",
    "    for letter in word:\n",
    "        if letter in histogram:\n",
    "            histogram[letter] +=1\n",
    "        else:\n",
    "            histogram[letter]=1\n",
    "    return histogram\n",
    "\n",
    "userInput= input(\"Enter a word: \")\n",
    "countletter=compute_letter(userInput)\n",
    "print(countletter)"
   ]
  },
  {
   "cell_type": "markdown",
   "metadata": {},
   "source": [
    "# Practice Question.\n",
    "\n",
    "Write a function that performs the following steps:\n",
    "\n",
    "- Reads a text file (pythonIntro.txt) and converts all words to lowercase.\n",
    "\n",
    "- Computes the frequency of each word using a dictionary (Bag of Words).\n",
    "\n",
    "- Removes the following stop words:\n",
    "\n",
    "  * stopword = ['is', 'to', 'this', 'of', 'a', 'the', 'and', 'are', 'so']\n",
    "- Sorts the remaining words by frequency in descending order.\n",
    "\n",
    " - Prints all words along with their frequencies after sorting."
   ]
  },
  {
   "cell_type": "markdown",
   "metadata": {},
   "source": [
    "Note: We have now seen lists of tuples, lists of lists, dictionaries of lists, etc. In general, we can have sequences of sequences. The types of sequences that can be nested and the number of nesting levels is up to you, the programmer!"
   ]
  }
 ],
 "metadata": {
  "anaconda-cloud": {},
  "kernelspec": {
   "display_name": "Python 3 (ipykernel)",
   "language": "python",
   "name": "python3"
  },
  "language_info": {
   "codemirror_mode": {
    "name": "ipython",
    "version": 3
   },
   "file_extension": ".py",
   "mimetype": "text/x-python",
   "name": "python",
   "nbconvert_exporter": "python",
   "pygments_lexer": "ipython3",
   "version": "3.13.5"
  }
 },
 "nbformat": 4,
 "nbformat_minor": 4
}
