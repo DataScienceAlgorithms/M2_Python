{
 "cells": [
  {
   "cell_type": "markdown",
   "metadata": {},
   "source": [
    "# [CPSC 322]() Data Science Algorithms\n",
    "[Gonzaga University](https://www.gonzaga.edu/) |\n",
    "[Sophina Luitel](https://www.gonzaga.edu/school-of-engineering-applied-science/faculty/detail/sophina-luitel-phd-0dba6a9d)\n",
    "\n",
    "\n",
    "# Files\n",
    "\n",
    "What are our learning objectives for this lesson?\n",
    "* Understand file I/O in Python\n",
    "* Read tables into memory as a list of lists\n",
    "\n",
    "\n",
    "Content used in this lesson is based upon information in the following sources:\n",
    "* None"
   ]
  },
  {
   "cell_type": "markdown",
   "metadata": {},
   "source": [
    "## Warm-up Task(s)\n",
    "In the same folder that you are working on, create a data.csv file. In data.csv, enter the following data and match the formatting exactly.\n",
    "\n",
    "```\n",
    "id,col1,col2,col3\n",
    "1,25.3,45.0,60.0\n",
    "2,45.0,5.6,32.5\n",
    "3,45.4,67.4,45.5\n",
    "```"
   ]
  },
  {
   "cell_type": "markdown",
   "metadata": {},
   "source": [
    "## File I/O\n",
    "A simple way to store data is in a *text file*, such as this simple text file, [transactions.txt](https://raw.githubusercontent.com/DataScienceAlgorithms/M2_Python/main/files/transactions.txt), that stores an individual's credit card transaction history. Each line in the file represents a transaction price.\n",
    "\n",
    "To process data in a file, we typically take the following approach:\n",
    "1. Open the file\n",
    "1. Process the file\n",
    "    * Read data (doesn't modify the file) or\n",
    "    * Write data (overwrite existing file) or\n",
    "    * Append data (retains existing information and adds new data)\n",
    "1. Close the file\n",
    "\n",
    "### Opening a File\n",
    "Before we can read from a file or write to a file, we first need to open the file and get a file object (AKA handle). We do this with the built-in function `open()`:"
   ]
  },
  {
   "cell_type": "code",
   "execution_count": 1,
   "metadata": {},
   "outputs": [],
   "source": [
    "# in_file is our variable connecting our program to transactions.txt\n",
    "# transactions.txt is a file I have in a files folder in the same folder as this running Python file\n",
    "in_file = open(r\"files\\transactions.txt\", \"r\")"
   ]
  },
  {
   "cell_type": "markdown",
   "metadata": {},
   "source": [
    "### File Modes\n",
    "\n",
    "The first argument to `open()` is the path to the file, and the second argument is the **mode** in which the file is opened:\n",
    "\n",
    "1. `\"r\"` – read mode\n",
    "   - The file must exist, or Python will raise an error.  \n",
    "2. `\"w\"` – write mode \n",
    "   - If the file does not exist, it will be created.  \n",
    "   - If the file exists, its contents will be **cleared**.  \n",
    "3. `\"a\"` – append mode\n",
    "   - If the file does not exist, it will be created.  \n",
    "   - If the file exists, new data is **added at the end** of the file.  \n",
    "\n",
    "You can read more about file modes [here](https://docs.python.org/3/tutorial/inputoutput.html#reading-and-writing-files).  \n",
    "\n",
    " `open()` returns a **file object**, which represents the connection between our program and the file (e.g., `transactions.txt`).  \n",
    "\n",
    "---\n",
    "\n",
    "### File Paths\n",
    "The current directory is the folder where your Python script is running.  \n",
    "\n",
    "- If your file is in the same directory as your script, you can just use its name:  \n",
    "\n",
    "```python\n",
    "file = open(\"transactions.txt\", \"r\")\n",
    "```\n",
    "If a file you want to open is in a directory other than the current directory, you will have to specify its path. \n",
    "\n",
    "Note: On a windows machine, folders and file names in a path are separated by backslashes \"\\\\\". We know the backslash has a special purpose in Python, to escape certain characters, such as a newline \"\\n\"; therefore, you will have to escape a backslash: \"`\\\\`\" in your path to a file: `\"files\\\\transactions.txt\"`. Alternatively, you can specify your path as a raw string: `r\"files\\transactions.txt\"`. On a Unix-based machine (e.g. Mac, Linux distributions), the forward slash \"/\" is used in paths and you don't have to worry about this issue.\n",
    "\n",
    "### Closing a File\n",
    "When we are done with a file, we should close it with `close()`:\n",
    "\n",
    "**Note**: Using `with open(...) as file:` automatically closes the file when done, which is the recommended approach:"
   ]
  },
  {
   "cell_type": "code",
   "execution_count": 2,
   "metadata": {},
   "outputs": [],
   "source": [
    "in_file.close()"
   ]
  },
  {
   "cell_type": "code",
   "execution_count": 38,
   "metadata": {},
   "outputs": [
    {
     "name": "stdout",
     "output_type": "stream",
     "text": [
      "Before manually closing: False\n",
      "After manually closing: True\n",
      "True\n"
     ]
    }
   ],
   "source": [
    "in_file = open(r\"files\\transactions.txt\", \"r\")\n",
    "# ... process the file ...\n",
    "print(f\"Before manually closing: {in_file.closed}\")\n",
    "in_file.close()\n",
    "print(f\"After manually closing: {in_file.closed}\")\n",
    "\n",
    "\n",
    "with open(r\"files\\transactions.txt\", \"r\") as infile:\n",
    "    '''\n",
    "    process the file\n",
    "    '''\n",
    "\n",
    "# The file is now automatically closed\n",
    "print(infile.closed) \n",
    "\n"
   ]
  },
  {
   "cell_type": "markdown",
   "metadata": {},
   "source": [
    "### Processing a File\n",
    "Once a file is open, we want to process the data inside the file (reading) or save data to file (writing). Consider the example transactions.txt we opened earlier.\n",
    "\n",
    "#### Reading from a File\n",
    "We will use the `readline()` function to read in a *single* line in the file (in transactions.txt this is the purchase price as a **string including the newline character \\n**):"
   ]
  },
  {
   "cell_type": "code",
   "execution_count": 25,
   "metadata": {},
   "outputs": [
    {
     "name": "stdout",
     "output_type": "stream",
     "text": [
      "13.42\n",
      " '13.42\\n' <class 'str'>\n",
      "13.42 <class 'float'>\n"
     ]
    }
   ],
   "source": [
    "in_file = open(r\"files\\transactions.txt\", \"r\")\n",
    "transaction = in_file.readline()\n",
    "# note the newline printed!! repr() shows non-printable characters like \\n\n",
    "print(transaction, repr(transaction), type(transaction))\n",
    "transaction = float(transaction)\n",
    "print(transaction, type(transaction))"
   ]
  },
  {
   "cell_type": "markdown",
   "metadata": {},
   "source": [
    "#### Writing to a File\n",
    "Now, let's use use the `write()` function to write the transaction price we just read in to an output file called single_transaction.txt:"
   ]
  },
  {
   "cell_type": "code",
   "execution_count": 27,
   "metadata": {},
   "outputs": [],
   "source": [
    "# creates the file if it does not exist\n",
    "# overwrites the file contents if it does exist\n",
    "with open(r\"files\\single_transaction.txt\", \"w\") as out_file:\n",
    "    # save the value of transaction as string\n",
    "    out_file.write(f\"{transaction:.2f}\")\n",
    "\n"
   ]
  },
  {
   "cell_type": "markdown",
   "metadata": {},
   "source": [
    "Another simple way to store data is in a CSV file (Comma-Separated Values), which is commonly used in data science. For example, consider this sample file: [transactions.csv](https://raw.githubusercontent.com/DataScienceAlgorithms/M2_Python/main/files/transactions.csv). Each row represents an individual's credit card transaction with columns like Date, Description, and Amount.\n",
    "\n",
    "Now that we have seen how to read and process text files using methods like `readlines()`, we can move on to CSV files, which are just text files with a special structure, columns separated by commas. CSvs let us store table-like data in a simple and readable format. Let's see more ways to read files using .csv files. Later, we will also see how Python's `csv` module can make working with CSV even easier.\n",
    "## Different ways of File Reading\n",
    "There are several ways to read data from a file in Python. Each has its use case:\n",
    "\n",
    "1. `readline()` – Read One Line at a Time\n",
    "   - Reads a single line from the file as a string, including the newline character `\\n`.\n",
    "   - Useful when processing a file line by line.\n",
    "     \n",
    "2. `readlines()` – Read All Lines as a List\n",
    "   - Reads all lines at once and returns a list of strings.\n",
    "   - Each string is one line, including `\\n`.\n",
    "   - Useful when you want to iterate over all lines or process lines in memory.\n",
    "     \n",
    "3. `read()` – Read the Entire File as a Single String\n",
    "   - Reads the full content of the file at once.\n",
    "   - Useful when you want to process the entire file as text.\n",
    "   - Can split the string into lines using `.split(\"\\n\")` if needed.\n",
    "4. Iterating Directly Over the File\n",
    "   - The most memory-efficient method.\n",
    "   - Iterates line by line over the file object.\n",
    "   - Useful for large files where loading all lines into memory is not practical.\n"
   ]
  },
  {
   "cell_type": "code",
   "execution_count": 60,
   "metadata": {},
   "outputs": [
    {
     "name": "stdout",
     "output_type": "stream",
     "text": [
      "Using readline()\n",
      "Line 1:    Date,Description,Amount\n",
      "\n",
      "Line 2:     9/1/2025,Coffee,3.5\n",
      "\n",
      "'   Date,Description,Amount\\n' <class 'str'>\n",
      "After removing leading spaces and newline character: Date,Description,Amount\n",
      "\n",
      "Using readlines()\n",
      "9/1/2025 Coffee 3.5\n",
      "9/2/2025 Groceries 45.2\n",
      "9/3/2025 Movie Ticket 12\n",
      "9/4/2025 Book 15.75\n",
      "9/5/2025 Gas 30\n",
      "\n",
      " Using read()\n",
      "    9/1/2025,Coffee,3.5\n",
      "9/2/2025,Groceries,45.2\n",
      "9/3/2025,Movie Ticket,12\n",
      "9/4/2025,Book,15.75\n",
      "9/5/2025,Gas,30\n",
      "\n",
      "\n",
      "Iterating directly over the file\n",
      "9/1/2025 Coffee 3.5\n",
      "9/2/2025 Groceries 45.2\n",
      "9/3/2025 Movie Ticket 12\n",
      "9/4/2025 Book 15.75\n",
      "9/5/2025 Gas 30\n"
     ]
    }
   ],
   "source": [
    "print(f\"Using readline()\")\n",
    "with open(r\"files\\transaction.csv\", \"r\") as file:\n",
    "    line1 = file.readline()\n",
    "    line2 = file.readline()\n",
    "    print(\"Line 1:\", line1)\n",
    "    print(\"Line 2:\", line2)\n",
    "\n",
    "# note the newline printed!! repr() shows non-printable characters like \\n\n",
    "print(repr(line1), type(line1))\n",
    "\n",
    "# removing newline character and leading spaces\n",
    "print(f\"After removing leading spaces and newline character: {line1.strip()}\")\n",
    "\n",
    "\n",
    "print(f\"\\nUsing readlines()\")\n",
    "with open(r\"files\\transaction.csv\", \"r\") as file:\n",
    "    lines = file.readlines()\n",
    "\n",
    "for row in lines[1:]:  # Skipping header\n",
    "    date, desc, amount = row.strip().split(\",\")\n",
    "    print(date, desc, amount)\n",
    "    \n",
    "print(f\"\\n Using read()\")\n",
    "with open(r\"files\\transaction.csv\", \"r\") as file:\n",
    "    content = file.read()\n",
    "\n",
    "rows = content.split(\"\\n\")\n",
    "for row in rows[1:]:  # Skipping header\n",
    "    print(row)\n",
    "\n",
    "print(f\"\\nIterating directly over the file\")\n",
    "with open(r\"files\\transaction.csv\", \"r\") as file:\n",
    "    next(file)  # Skip header\n",
    "    for line in file:\n",
    "        date, desc, amount = line.strip().split(\",\")\n",
    "        print(date, desc, amount)"
   ]
  },
  {
   "cell_type": "markdown",
   "metadata": {},
   "source": [
    "### Example Problem\n",
    "On average, how much money do I spend per transaction?\n",
    "\n",
    "Algorithm:\n",
    "1. For each transaction\n",
    "    1. Read in the details of transaction (each line) from file\n",
    "    2. Remove the newline character and use split to create a list\n",
    "    3. Get the amount value from the list\n",
    "    1. Accumulate the total money spent so far\n",
    "1. Divide total money spent by total number of transactions\n",
    "1. Write the average transaction to file"
   ]
  },
  {
   "cell_type": "markdown",
   "metadata": {},
   "source": [
    "### `while` Loops \n",
    "Let's use a `while` loop. `readline()` will return an empty string when the end of the file is reached. This can be used in our Boolean condition:"
   ]
  },
  {
   "cell_type": "code",
   "execution_count": 61,
   "metadata": {},
   "outputs": [
    {
     "name": "stdout",
     "output_type": "stream",
     "text": [
      "['9/1/2025', 'Coffee', '3.5']\n",
      "['9/2/2025', 'Groceries', '45.2']\n",
      "['9/3/2025', 'Movie Ticket', '12']\n",
      "['9/4/2025', 'Book', '15.75']\n",
      "['9/5/2025', 'Gas', '30']\n",
      "On average, you spend 21.29 per transaction \n"
     ]
    }
   ],
   "source": [
    "def compute_avg_spent():\n",
    "    '''\n",
    "    \n",
    "    '''\n",
    "    # accumulator variable\n",
    "    total_spent = 0.0\n",
    "    # count the transactions\n",
    "    num_transactions = 0\n",
    "    \n",
    "   # in_file = open(r\"files\\transactions.txt\", \"r\")\n",
    "    with open(r\"files/transaction.csv\",\"r\") as in_file:\n",
    "\n",
    "        # read the first line in the file\n",
    "        header = in_file.readline()\n",
    "        #read the second line\n",
    "        spent=in_file.readline()\n",
    "        \n",
    "        # test if this line is the empty string, meaning the end of file has been reached\n",
    "        while spent != \"\":\n",
    "        # not end of file, process this transaction\n",
    "            #remove the newline character using strip() and divide string into list\n",
    "            spent=spent.strip().split(\",\")\n",
    "            print(spent)\n",
    "            #using index of amount which is 2\n",
    "            amount=spent[2]\n",
    "            total_spent += float(amount)\n",
    "            num_transactions += 1\n",
    "            # progress toward Boolean condition being False here is progress through the file\n",
    "            spent = in_file.readline()\n",
    "  \n",
    "    \n",
    "    return total_spent / num_transactions\n",
    "\n",
    "avg_spent_per_transaction = compute_avg_spent()\n",
    "\n",
    "print(f\"On average, you spend {avg_spent_per_transaction:.2f} per transaction \")"
   ]
  },
  {
   "cell_type": "markdown",
   "metadata": {},
   "source": [
    "## The File \"Cursor\"\n",
    "When you open a file for reading (\"r\" mode), the cursor marking the current position at which to read from starts at the beginning of the file (position 0). As `readlines()` is called, the cursor moves through the file. To find out the position of the cursor, you can call `tell()`:"
   ]
  },
  {
   "cell_type": "code",
   "execution_count": 69,
   "metadata": {},
   "outputs": [
    {
     "name": "stdout",
     "output_type": "stream",
     "text": [
      "File cursor is at position: 0\n",
      "File cursor is at position: 7\n",
      "First line contains: '13.42\\n' which contains 6 characters (including newline)\n"
     ]
    }
   ],
   "source": [
    "with open(r\"files\\transactions.txt\", \"r\") as in_file:\n",
    "\n",
    "    print(f\"File cursor is at position: {in_file.tell()}\")\n",
    "\n",
    "    # read data from the file advances the cursor by a certain number of bytes, depending on the number of characters in the line\n",
    "    transaction = in_file.readline()\n",
    "    print(f\"File cursor is at position: {in_file.tell()}\")\n",
    "    # %r placeholder displays all characters in a string. we use it see the newline character as \\n\n",
    "    print(f\"First line contains: {transaction!r} which contains {len(transaction)} characters (including newline)\")\n"
   ]
  },
  {
   "cell_type": "markdown",
   "metadata": {},
   "source": [
    "To move the cursor back to the beginning of the file, you can either:\n",
    "1. Close the file and re-open it\n",
    "1. Use `seek(0,0)`:"
   ]
  },
  {
   "cell_type": "code",
   "execution_count": 70,
   "metadata": {},
   "outputs": [
    {
     "name": "stdout",
     "output_type": "stream",
     "text": [
      "File cursor is at position: 0\n",
      "File cursor is at position: 7\n",
      "First line contains: '13.42\\n' which contains 6 characters (including newline)\n",
      "File cursor is at position: 0\n"
     ]
    }
   ],
   "source": [
    "with open(r\"files\\transactions.txt\", \"r\") as in_file:\n",
    "\n",
    "    print(f\"File cursor is at position: {in_file.tell()}\")\n",
    "\n",
    "    # read data from the file advances the cursor by a certain number of bytes, depending on the number of characters in the line\n",
    "    transaction = in_file.readline()\n",
    "    print(f\"File cursor is at position: {in_file.tell()}\")\n",
    "    # !r displays all characters in a string. we use it see the newline character as \\n\n",
    "    print(f\"First line contains: {transaction!r} which contains {len(transaction)} characters (including newline)\")\n",
    "    # move the cursor back to the beginning of the file\n",
    "    in_file.seek(0,0) \n",
    "    print(f\"File cursor is at position: {in_file.tell()}\")\n"
   ]
  },
  {
   "cell_type": "markdown",
   "metadata": {},
   "source": [
    "Note: In the code above I used a built-in function called [`len()`](https://docs.python.org/3/library/functions.html#len). `len()` accepts a string as an argument and returns the number of characters in the string.\n",
    "\n",
    "Digression: On Windows, newlines are actually represented by \\r\\n (carriage return and newline). Python combines the carriage return and newline for us so we don't have to worry about this. Knowing this least helps explain the cursor position of 7 above.\n",
    "\n",
    "|Position|0|1|2|3|4|5|6|7|8|...|\n",
    "|-|-|-|-|-|-|-|-|-|-|-|\n",
    "|Character|1|3|.|4|2|\\r|\\n|2|7|...|\n",
    "\n",
    "We can remove whitespace characters (like \\n and \\r) with a call to a string function `strip()`:"
   ]
  },
  {
   "cell_type": "markdown",
   "metadata": {},
   "source": [
    "## Alternative way to write"
   ]
  },
  {
   "cell_type": "code",
   "execution_count": 50,
   "metadata": {},
   "outputs": [],
   "source": [
    "\n",
    "# alternative way to write to a file using print() instead of write() \n",
    "\n",
    "with open(r\"files\\out_demo.txt\", \"w\") as outfile:\n",
    "    print(\"Writing this output via print()\", file=outfile) # file=outfile directs print() to write to the file object outfile instead of the console\n"
   ]
  },
  {
   "cell_type": "markdown",
   "metadata": {},
   "source": [
    "## Reading in Tables\n",
    "Assume files stored in “Comma Separated Values” (CSV) format:\n",
    "\n",
    "18.0,8,307.0,130.0,3504,12.0,70,1,chevrolet chevelle malibu,2881\n",
    "15.0,8,350.0,165.0,3693,11.5,70,1,buick skylark 320,2847\n",
    "18.0,8,318.0,150.0,3436,11.0,70,1,plymouth satellite,2831\n",
    "...\n",
    "\n",
    "Use the [csv module](https://docs.python.org/3/library/csv.html) to read in datasets\n",
    "* here we are storing a dataset as a list of lists (sublists are rows)"
   ]
  },
  {
   "cell_type": "code",
   "execution_count": 87,
   "metadata": {},
   "outputs": [
    {
     "name": "stdout",
     "output_type": "stream",
     "text": [
      "[['   Date', 'Description', 'Amount'], ['    9/1/2025', 'Coffee', '3.5'], ['9/2/2025', 'Groceries    ', '45.2'], ['9/3/2025', 'Movie Ticket', '12'], ['9/4/2025', 'Book', '15.75'], ['9/5/2025', 'Gas', '30']]\n"
     ]
    }
   ],
   "source": [
    "import csv\n",
    "import copy\n",
    "\n",
    "def read_csv(filename):\n",
    "    '''\n",
    "    Reads in a csv file and returns a table as a list of lists (rows)\n",
    "    '''\n",
    "    with open(filename, 'r') as the_file:\n",
    "        the_reader = csv.reader(the_file, dialect='excel')\n",
    "        table = []\n",
    "        for row in the_reader:\n",
    "            if len(row) > 0:\n",
    "                table.append(row)\n",
    "    return table\n",
    "\n",
    "table1=[]\n",
    "table1=read_csv(r\"files/transaction.csv\")\n",
    "print(table1)"
   ]
  },
  {
   "cell_type": "code",
   "execution_count": null,
   "metadata": {},
   "outputs": [],
   "source": []
  }
 ],
 "metadata": {
  "anaconda-cloud": {},
  "kernelspec": {
   "display_name": "Python 3 (ipykernel)",
   "language": "python",
   "name": "python3"
  },
  "language_info": {
   "codemirror_mode": {
    "name": "ipython",
    "version": 3
   },
   "file_extension": ".py",
   "mimetype": "text/x-python",
   "name": "python",
   "nbconvert_exporter": "python",
   "pygments_lexer": "ipython3",
   "version": "3.13.5"
  }
 },
 "nbformat": 4,
 "nbformat_minor": 4
}
